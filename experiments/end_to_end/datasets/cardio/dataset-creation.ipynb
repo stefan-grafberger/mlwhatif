{
 "cells": [
  {
   "cell_type": "code",
   "execution_count": 3,
   "metadata": {
    "collapsed": true
   },
   "outputs": [],
   "source": [
    "import pandas as pd\n",
    "\n",
    "original = pd.read_csv(\"cardio-original.csv\", delimiter=\";\")"
   ]
  },
  {
   "cell_type": "code",
   "execution_count": 4,
   "outputs": [],
   "source": [
    "new_main_table = original[[\"id\", \"age\", \"gender\", \"height\", \"weight\"]]\n",
    "new_main_table.to_csv('cardio-main.csv', index=False, sep=\";\")\n",
    "new_first_additional_table = original[[\"id\", \"ap_hi\", \"ap_lo\", \"cholesterol\", \"gluc\"]]\n",
    "new_first_additional_table.to_csv('cardio-add-one.csv', index=False, sep=\";\")\n",
    "new_second_additional_table = original[[\"id\", \"smoke\", \"alco\", \"active\", \"cardio\"]]\n",
    "new_second_additional_table.to_csv('cardio-add-two.csv', index=False, sep=\";\")"
   ],
   "metadata": {
    "collapsed": false,
    "pycharm": {
     "name": "#%%\n"
    }
   }
  },
  {
   "cell_type": "code",
   "execution_count": 5,
   "outputs": [
    {
     "data": {
      "text/plain": "          id    age  gender  height  weight  ap_hi  ap_lo  cholesterol  gluc  \\\n0          0  18393       2     168    62.0    110     80            1     1   \n1          1  20228       1     156    85.0    140     90            3     1   \n2          2  18857       1     165    64.0    130     70            3     1   \n3          3  17623       2     169    82.0    150    100            1     1   \n4          4  17474       1     156    56.0    100     60            1     1   \n...      ...    ...     ...     ...     ...    ...    ...          ...   ...   \n69995  99993  19240       2     168    76.0    120     80            1     1   \n69996  99995  22601       1     158   126.0    140     90            2     2   \n69997  99996  19066       2     183   105.0    180     90            3     1   \n69998  99998  22431       1     163    72.0    135     80            1     2   \n69999  99999  20540       1     170    72.0    120     80            2     1   \n\n       smoke  alco  active  cardio  \n0          0     0       1       0  \n1          0     0       1       1  \n2          0     0       0       1  \n3          0     0       1       1  \n4          0     0       0       0  \n...      ...   ...     ...     ...  \n69995      1     0       1       0  \n69996      0     0       1       1  \n69997      0     1       0       1  \n69998      0     0       0       1  \n69999      0     0       1       0  \n\n[70000 rows x 13 columns]",
      "text/html": "<div>\n<style scoped>\n    .dataframe tbody tr th:only-of-type {\n        vertical-align: middle;\n    }\n\n    .dataframe tbody tr th {\n        vertical-align: top;\n    }\n\n    .dataframe thead th {\n        text-align: right;\n    }\n</style>\n<table border=\"1\" class=\"dataframe\">\n  <thead>\n    <tr style=\"text-align: right;\">\n      <th></th>\n      <th>id</th>\n      <th>age</th>\n      <th>gender</th>\n      <th>height</th>\n      <th>weight</th>\n      <th>ap_hi</th>\n      <th>ap_lo</th>\n      <th>cholesterol</th>\n      <th>gluc</th>\n      <th>smoke</th>\n      <th>alco</th>\n      <th>active</th>\n      <th>cardio</th>\n    </tr>\n  </thead>\n  <tbody>\n    <tr>\n      <th>0</th>\n      <td>0</td>\n      <td>18393</td>\n      <td>2</td>\n      <td>168</td>\n      <td>62.0</td>\n      <td>110</td>\n      <td>80</td>\n      <td>1</td>\n      <td>1</td>\n      <td>0</td>\n      <td>0</td>\n      <td>1</td>\n      <td>0</td>\n    </tr>\n    <tr>\n      <th>1</th>\n      <td>1</td>\n      <td>20228</td>\n      <td>1</td>\n      <td>156</td>\n      <td>85.0</td>\n      <td>140</td>\n      <td>90</td>\n      <td>3</td>\n      <td>1</td>\n      <td>0</td>\n      <td>0</td>\n      <td>1</td>\n      <td>1</td>\n    </tr>\n    <tr>\n      <th>2</th>\n      <td>2</td>\n      <td>18857</td>\n      <td>1</td>\n      <td>165</td>\n      <td>64.0</td>\n      <td>130</td>\n      <td>70</td>\n      <td>3</td>\n      <td>1</td>\n      <td>0</td>\n      <td>0</td>\n      <td>0</td>\n      <td>1</td>\n    </tr>\n    <tr>\n      <th>3</th>\n      <td>3</td>\n      <td>17623</td>\n      <td>2</td>\n      <td>169</td>\n      <td>82.0</td>\n      <td>150</td>\n      <td>100</td>\n      <td>1</td>\n      <td>1</td>\n      <td>0</td>\n      <td>0</td>\n      <td>1</td>\n      <td>1</td>\n    </tr>\n    <tr>\n      <th>4</th>\n      <td>4</td>\n      <td>17474</td>\n      <td>1</td>\n      <td>156</td>\n      <td>56.0</td>\n      <td>100</td>\n      <td>60</td>\n      <td>1</td>\n      <td>1</td>\n      <td>0</td>\n      <td>0</td>\n      <td>0</td>\n      <td>0</td>\n    </tr>\n    <tr>\n      <th>...</th>\n      <td>...</td>\n      <td>...</td>\n      <td>...</td>\n      <td>...</td>\n      <td>...</td>\n      <td>...</td>\n      <td>...</td>\n      <td>...</td>\n      <td>...</td>\n      <td>...</td>\n      <td>...</td>\n      <td>...</td>\n      <td>...</td>\n    </tr>\n    <tr>\n      <th>69995</th>\n      <td>99993</td>\n      <td>19240</td>\n      <td>2</td>\n      <td>168</td>\n      <td>76.0</td>\n      <td>120</td>\n      <td>80</td>\n      <td>1</td>\n      <td>1</td>\n      <td>1</td>\n      <td>0</td>\n      <td>1</td>\n      <td>0</td>\n    </tr>\n    <tr>\n      <th>69996</th>\n      <td>99995</td>\n      <td>22601</td>\n      <td>1</td>\n      <td>158</td>\n      <td>126.0</td>\n      <td>140</td>\n      <td>90</td>\n      <td>2</td>\n      <td>2</td>\n      <td>0</td>\n      <td>0</td>\n      <td>1</td>\n      <td>1</td>\n    </tr>\n    <tr>\n      <th>69997</th>\n      <td>99996</td>\n      <td>19066</td>\n      <td>2</td>\n      <td>183</td>\n      <td>105.0</td>\n      <td>180</td>\n      <td>90</td>\n      <td>3</td>\n      <td>1</td>\n      <td>0</td>\n      <td>1</td>\n      <td>0</td>\n      <td>1</td>\n    </tr>\n    <tr>\n      <th>69998</th>\n      <td>99998</td>\n      <td>22431</td>\n      <td>1</td>\n      <td>163</td>\n      <td>72.0</td>\n      <td>135</td>\n      <td>80</td>\n      <td>1</td>\n      <td>2</td>\n      <td>0</td>\n      <td>0</td>\n      <td>0</td>\n      <td>1</td>\n    </tr>\n    <tr>\n      <th>69999</th>\n      <td>99999</td>\n      <td>20540</td>\n      <td>1</td>\n      <td>170</td>\n      <td>72.0</td>\n      <td>120</td>\n      <td>80</td>\n      <td>2</td>\n      <td>1</td>\n      <td>0</td>\n      <td>0</td>\n      <td>1</td>\n      <td>0</td>\n    </tr>\n  </tbody>\n</table>\n<p>70000 rows × 13 columns</p>\n</div>"
     },
     "execution_count": 5,
     "metadata": {},
     "output_type": "execute_result"
    }
   ],
   "source": [
    "test_main = pd.read_csv(\"cardio-main.csv\", delimiter=\";\")\n",
    "test_new_first_additional_table = pd.read_csv(\"cardio-add-one.csv\", delimiter=\";\")\n",
    "test_new_second_additional_table = pd.read_csv(\"cardio-add-two.csv\", delimiter=\";\")\n",
    "main_and_one = test_main.merge(test_new_first_additional_table, on=\"id\")\n",
    "full_table = main_and_one.merge(test_new_second_additional_table, on=\"id\")\n",
    "full_table"
   ],
   "metadata": {
    "collapsed": false,
    "pycharm": {
     "name": "#%%\n"
    }
   }
  }
 ],
 "metadata": {
  "kernelspec": {
   "display_name": "Python 3",
   "language": "python",
   "name": "python3"
  },
  "language_info": {
   "codemirror_mode": {
    "name": "ipython",
    "version": 2
   },
   "file_extension": ".py",
   "mimetype": "text/x-python",
   "name": "python",
   "nbconvert_exporter": "python",
   "pygments_lexer": "ipython2",
   "version": "2.7.6"
  }
 },
 "nbformat": 4,
 "nbformat_minor": 0
}