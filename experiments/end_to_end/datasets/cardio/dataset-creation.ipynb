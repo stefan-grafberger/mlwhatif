{
 "cells": [
  {
   "cell_type": "code",
   "execution_count": 1,
   "metadata": {
    "collapsed": true
   },
   "outputs": [],
   "source": [
    "import pandas as pd\n",
    "\n",
    "original = pd.read_csv(\"cardio-original.csv\", delimiter=\";\")"
   ]
  },
  {
   "cell_type": "code",
   "execution_count": 2,
   "outputs": [],
   "source": [
    "new_main_table = original[[\"id\", \"age\", \"gender\", \"height\", \"weight\"]]\n",
    "new_main_table.to_csv('cardio-main.csv', index=False)\n",
    "new_first_additional_table = original[[\"id\", \"ap_hi\", \"ap_lo\", \"cholesterol\", \"gluc\"]]\n",
    "new_first_additional_table.to_csv('cardio-add-one.csv', index=False)\n",
    "new_second_additional_table = original[[\"id\", \"smoke\", \"alco\", \"active\", \"cardio\"]]\n",
    "new_second_additional_table.to_csv('cardio-add-two.csv', index=False)"
   ],
   "metadata": {
    "collapsed": false,
    "pycharm": {
     "name": "#%%\n"
    }
   }
  }
 ],
 "metadata": {
  "kernelspec": {
   "display_name": "Python 3",
   "language": "python",
   "name": "python3"
  },
  "language_info": {
   "codemirror_mode": {
    "name": "ipython",
    "version": 2
   },
   "file_extension": ".py",
   "mimetype": "text/x-python",
   "name": "python",
   "nbconvert_exporter": "python",
   "pygments_lexer": "ipython2",
   "version": "2.7.6"
  }
 },
 "nbformat": 4,
 "nbformat_minor": 0
}