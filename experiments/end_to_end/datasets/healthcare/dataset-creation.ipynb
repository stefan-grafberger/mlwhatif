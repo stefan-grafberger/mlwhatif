{
 "cells": [
  {
   "cell_type": "code",
   "execution_count": 1,
   "metadata": {
    "collapsed": true
   },
   "outputs": [],
   "source": [
    "import os\n",
    "import pandas as pd\n",
    "from mlwhatif.utils import get_project_root\n",
    "\n",
    "patients = pd.read_csv(os.path.join(str(get_project_root()), \"example_pipelines\", \"healthcare\",\n",
    "                                    \"patients.csv\"), na_values='?')\n",
    "histories = pd.read_csv(os.path.join(str(get_project_root()), \"example_pipelines\", \"healthcare\",\n",
    "                                     \"histories.csv\"), na_values='?')\n",
    "\n",
    "data = patients.merge(histories, on=['ssn'])"
   ]
  },
  {
   "cell_type": "code",
   "execution_count": 2,
   "outputs": [],
   "source": [
    "data[\"full_name\"] = data[\"first_name\"] + \" \" + data[\"last_name\"]\n",
    "new_patient_table = data[['id', 'first_name', 'last_name', 'race', 'county', 'num_children', 'income', 'age_group', 'full_name']]\n",
    "new_patient_table.to_csv('patients.csv', index=False, na_rep='?')\n",
    "new_histories_table = data[['full_name', 'smoker', 'complications']]\n",
    "new_histories_table.to_csv('histories.csv', index=False, na_rep='?')"
   ],
   "metadata": {
    "collapsed": false,
    "pycharm": {
     "name": "#%%\n"
    }
   }
  },
  {
   "cell_type": "code",
   "execution_count": 3,
   "outputs": [
    {
     "name": "stderr",
     "output_type": "stream",
     "text": [
      "INFO:Running instrumented original pipeline...\n",
      "INFO:Importing libraries and monkey-patching them... (Imports are slow if not in sys.modules cache yet!)\n",
      "INFO:---RUNTIME: Importing and monkey-patching took 3387.5012397766113 ms\n",
      "INFO:---RUNTIME: Original pipeline execution took 1658.3688259124756 ms (excluding imports and monkey-patching)\n",
      "INFO:Starting execution of 0 what-if analyses...\n",
      "INFO:Estimated runtime of original DAG is 1583.6586952209473ms\n",
      "INFO:Performing Multi-Query Optimization\n",
      "INFO:Estimated unoptimized what-if runtime is 0ms\n",
      "INFO:Estimated optimised what-if runtime is 0ms\n",
      "INFO:Estimated optimisation runtime saving is 0ms\n",
      "INFO:---RUNTIME: Multi-Query Optimization took 4.818916320800781 ms\n",
      "INFO:Executing generated plans\n",
      "INFO:---RUNTIME: Execution took 0.0209808349609375 ms\n",
      "INFO:Done!\n"
     ]
    }
   ],
   "source": [
    "import os\n",
    "from mlwhatif.utils import get_project_root\n",
    "from example_pipelines.healthcare import custom_monkeypatching\n",
    "from mlwhatif import PipelineAnalyzer\n",
    "\n",
    "HEALTHCARE_PY = os.path.join(str(get_project_root()), \"experiments\", \"end_to_end\", \"datasets\", \"healthcare\", \"healthcare.py\")\n",
    "HEALTHCARE_PNG = os.path.join(str(get_project_root()), \"experiments\", \"end_to_end\", \"datasets\", \"healthcare\", \"healthcare-dag\")\n",
    "\n",
    "analysis_result = PipelineAnalyzer \\\n",
    "    .on_pipeline_from_py_file(HEALTHCARE_PY) \\\n",
    "    .add_custom_monkey_patching_module(custom_monkeypatching) \\\n",
    "    .execute()\n",
    "\n",
    "analysis_result.save_original_dag_to_path(HEALTHCARE_PNG)\n",
    "# To check if fuzzy merge is as expensive as we want"
   ],
   "metadata": {
    "collapsed": false,
    "pycharm": {
     "name": "#%%\n"
    }
   }
  }
 ],
 "metadata": {
  "kernelspec": {
   "display_name": "Python 3",
   "language": "python",
   "name": "python3"
  },
  "language_info": {
   "codemirror_mode": {
    "name": "ipython",
    "version": 2
   },
   "file_extension": ".py",
   "mimetype": "text/x-python",
   "name": "python",
   "nbconvert_exporter": "python",
   "pygments_lexer": "ipython2",
   "version": "2.7.6"
  }
 },
 "nbformat": 4,
 "nbformat_minor": 0
}