{
 "cells": [
  {
   "cell_type": "code",
   "execution_count": 3,
   "metadata": {
    "collapsed": true
   },
   "outputs": [],
   "source": [
    "import pandas as pd\n",
    "import numpy as np\n",
    "\n",
    "ACSIncome_categories = {\n",
    "    \"COW\": {\n",
    "        1.0: (\n",
    "            \"Employee of a private for-profit company or\"\n",
    "            \"business, or of an individual, for wages,\"\n",
    "            \"salary, or commissions\"\n",
    "        ),\n",
    "        2.0: (\n",
    "            \"Employee of a private not-for-profit, tax-exempt,\"\n",
    "            \"or charitable organization\"\n",
    "        ),\n",
    "        3.0: \"Local government employee (city, county, etc.)\",\n",
    "        4.0: \"State government employee\",\n",
    "        5.0: \"Federal government employee\",\n",
    "        6.0: (\n",
    "            \"Self-employed in own not incorporated business,\"\n",
    "            \"professional practice, or farm\"\n",
    "        ),\n",
    "        7.0: (\n",
    "            \"Self-employed in own incorporated business,\"\n",
    "            \"professional practice or farm\"\n",
    "        ),\n",
    "        8.0: \"Working without pay in family business or farm\",\n",
    "        9.0: \"Unemployed and last worked 5 years ago or earlier or never worked\",\n",
    "    },\n",
    "    \"SCHL\": {\n",
    "        1.0: \"No schooling completed\",\n",
    "        2.0: \"Nursery school, preschool\",\n",
    "        3.0: \"Kindergarten\",\n",
    "        4.0: \"Grade 1\",\n",
    "        5.0: \"Grade 2\",\n",
    "        6.0: \"Grade 3\",\n",
    "        7.0: \"Grade 4\",\n",
    "        8.0: \"Grade 5\",\n",
    "        9.0: \"Grade 6\",\n",
    "        10.0: \"Grade 7\",\n",
    "        11.0: \"Grade 8\",\n",
    "        12.0: \"Grade 9\",\n",
    "        13.0: \"Grade 10\",\n",
    "        14.0: \"Grade 11\",\n",
    "        15.0: \"12th grade - no diploma\",\n",
    "        16.0: \"Regular high school diploma\",\n",
    "        17.0: \"GED or alternative credential\",\n",
    "        18.0: \"Some college, but less than 1 year\",\n",
    "        19.0: \"1 or more years of college credit, no degree\",\n",
    "        20.0: \"Associate's degree\",\n",
    "        21.0: \"Bachelor's degree\",\n",
    "        22.0: \"Master's degree\",\n",
    "        23.0: \"Professional degree beyond a bachelor's degree\",\n",
    "        24.0: \"Doctorate degree\",\n",
    "    },\n",
    "    \"MAR\": {\n",
    "        1.0: \"Married\",\n",
    "        2.0: \"Widowed\",\n",
    "        3.0: \"Divorced\",\n",
    "        4.0: \"Separated\",\n",
    "        5.0: \"Never married or under 15 years old\",\n",
    "    },\n",
    "    \"SEX\": {1.0: \"Male\", 2.0: \"Female\"},\n",
    "    \"RAC1P\": {\n",
    "        1.0: \"White alone\",\n",
    "        2.0: \"Black or African American alone\",\n",
    "        3.0: \"American Indian alone\",\n",
    "        4.0: \"Alaska Native alone\",\n",
    "        5.0: (\n",
    "            \"American Indian and Alaska Native tribes specified;\"\n",
    "            \"or American Indian or Alaska Native,\"\n",
    "            \"not specified and no other\"\n",
    "        ),\n",
    "        6.0: \"Asian alone\",\n",
    "        7.0: \"Native Hawaiian and Other Pacific Islander alone\",\n",
    "        8.0: \"Some Other Race alone\",\n",
    "        9.0: \"Two or More Races\",\n",
    "    },\n",
    "}\n",
    "\n",
    "def df_to_pandas(self, df, categories=None, dummies=False):\n",
    "        \"\"\"Filters and processes a DataFrame (received from ```ACSDataSource''').\n",
    "\n",
    "        Args:\n",
    "            df: pd.DataFrame (received from ```ACSDataSource''')\n",
    "            categories: nested dict with columns of categorical features\n",
    "                and their corresponding encodings (see examples folder)\n",
    "            dummies: bool to indicate the creation of dummy variables for\n",
    "                categorical features (see examples folder)\n",
    "\n",
    "        Returns:\n",
    "            pandas.DataFrame.\"\"\"\n",
    "\n",
    "        df = self._preprocess(df)\n",
    "\n",
    "        variables = df[self.features]\n",
    "\n",
    "        if categories:\n",
    "            variables = variables.replace(categories)\n",
    "\n",
    "        if dummies:\n",
    "            variables = pd.get_dummies(variables)\n",
    "\n",
    "        variables = pd.DataFrame(self._postprocess(variables.to_numpy()),\n",
    "                                 columns=variables.columns)\n",
    "\n",
    "        if self.target_transform is None:\n",
    "            target = df[self.target]\n",
    "        else:\n",
    "            target = self.target_transform(df[self.target])\n",
    "\n",
    "        target = pd.DataFrame(target).reset_index(drop=True)\n",
    "\n",
    "        if self._group:\n",
    "            group = self.group_transform(df[self.group])\n",
    "            group = pd.DataFrame(group).reset_index(drop=True)\n",
    "        else:\n",
    "            group = pd.DataFrame(0, index=np.arange(len(target)), columns=[\"group\"])\n",
    "\n",
    "        return variables, target, group"
   ]
  },
  {
   "cell_type": "code",
   "execution_count": 4,
   "outputs": [
    {
     "name": "stdout",
     "output_type": "stream",
     "text": [
      "Downloading data for 2017 5-Year person survey for RI...\n"
     ]
    }
   ],
   "source": [
    "\n",
    "from folktables import ACSDataSource, ACSIncome, ACSEmployment\n",
    "\n",
    "data_source = ACSDataSource(survey_year='2017', horizon='5-Year', survey='person')\n",
    "ca_data = data_source.get_data(states=[\"RI\"], download=True)  # CT 20,000 rows\n",
    "\n",
    "features, labels, group = df_to_pandas(ACSIncome, ca_data, ACSIncome_categories)"
   ],
   "metadata": {
    "collapsed": false,
    "pycharm": {
     "name": "#%%\n"
    }
   }
  },
  {
   "cell_type": "code",
   "execution_count": 5,
   "outputs": [
    {
     "data": {
      "text/plain": "      AGEP                                                COW  \\\n0       63     Local government employee (city, county, etc.)   \n1       55     Local government employee (city, county, etc.)   \n2       17  Employee of a private for-profit company orbus...   \n3       48  Employee of a private for-profit company orbus...   \n4       45  Employee of a private for-profit company orbus...   \n...    ...                                                ...   \n29232   19  Employee of a private for-profit company orbus...   \n29233   20  Employee of a private for-profit company orbus...   \n29234   19  Employee of a private for-profit company orbus...   \n29235   20  Employee of a private not-for-profit, tax-exem...   \n29236   19  Employee of a private for-profit company orbus...   \n\n                                               SCHL  \\\n0                                 Bachelor's degree   \n1                                Associate's degree   \n2                                          Grade 11   \n3                                 Bachelor's degree   \n4                                   Master's degree   \n...                                             ...   \n29232            Some college, but less than 1 year   \n29233                             Bachelor's degree   \n29234  1 or more years of college credit, no degree   \n29235                   Regular high school diploma   \n29236  1 or more years of college credit, no degree   \n\n                                       MAR    OCCP POBP RELP  WKHP     SEX  \\\n0                                  Married  5120.0  129    0  55.0    Male   \n1                                  Married  5860.0   44    1  19.0  Female   \n2      Never married or under 15 years old  4220.0   44    2   5.0    Male   \n3                                  Married  4700.0   36    0  50.0    Male   \n4                                  Married   230.0   25    1  40.0  Female   \n...                                    ...     ...  ...  ...   ...     ...   \n29232  Never married or under 15 years old  3955.0   44   17  22.0    Male   \n29233  Never married or under 15 years old  4760.0  341   17   7.0  Female   \n29234  Never married or under 15 years old  4150.0    9   17  20.0  Female   \n29235  Never married or under 15 years old   726.0  416   17   7.0  Female   \n29236  Never married or under 15 years old  4110.0    9   17  29.0  Female   \n\n                                 RAC1P  PINCP  \n0                          White alone   True  \n1                          White alone   True  \n2                          White alone  False  \n3      Black or African American alone   True  \n4      Black or African American alone   True  \n...                                ...    ...  \n29232                      White alone  False  \n29233                Two or More Races  False  \n29234                      White alone  False  \n29235  Black or African American alone  False  \n29236                      White alone  False  \n\n[29237 rows x 11 columns]",
      "text/html": "<div>\n<style scoped>\n    .dataframe tbody tr th:only-of-type {\n        vertical-align: middle;\n    }\n\n    .dataframe tbody tr th {\n        vertical-align: top;\n    }\n\n    .dataframe thead th {\n        text-align: right;\n    }\n</style>\n<table border=\"1\" class=\"dataframe\">\n  <thead>\n    <tr style=\"text-align: right;\">\n      <th></th>\n      <th>AGEP</th>\n      <th>COW</th>\n      <th>SCHL</th>\n      <th>MAR</th>\n      <th>OCCP</th>\n      <th>POBP</th>\n      <th>RELP</th>\n      <th>WKHP</th>\n      <th>SEX</th>\n      <th>RAC1P</th>\n      <th>PINCP</th>\n    </tr>\n  </thead>\n  <tbody>\n    <tr>\n      <th>0</th>\n      <td>63</td>\n      <td>Local government employee (city, county, etc.)</td>\n      <td>Bachelor's degree</td>\n      <td>Married</td>\n      <td>5120.0</td>\n      <td>129</td>\n      <td>0</td>\n      <td>55.0</td>\n      <td>Male</td>\n      <td>White alone</td>\n      <td>True</td>\n    </tr>\n    <tr>\n      <th>1</th>\n      <td>55</td>\n      <td>Local government employee (city, county, etc.)</td>\n      <td>Associate's degree</td>\n      <td>Married</td>\n      <td>5860.0</td>\n      <td>44</td>\n      <td>1</td>\n      <td>19.0</td>\n      <td>Female</td>\n      <td>White alone</td>\n      <td>True</td>\n    </tr>\n    <tr>\n      <th>2</th>\n      <td>17</td>\n      <td>Employee of a private for-profit company orbus...</td>\n      <td>Grade 11</td>\n      <td>Never married or under 15 years old</td>\n      <td>4220.0</td>\n      <td>44</td>\n      <td>2</td>\n      <td>5.0</td>\n      <td>Male</td>\n      <td>White alone</td>\n      <td>False</td>\n    </tr>\n    <tr>\n      <th>3</th>\n      <td>48</td>\n      <td>Employee of a private for-profit company orbus...</td>\n      <td>Bachelor's degree</td>\n      <td>Married</td>\n      <td>4700.0</td>\n      <td>36</td>\n      <td>0</td>\n      <td>50.0</td>\n      <td>Male</td>\n      <td>Black or African American alone</td>\n      <td>True</td>\n    </tr>\n    <tr>\n      <th>4</th>\n      <td>45</td>\n      <td>Employee of a private for-profit company orbus...</td>\n      <td>Master's degree</td>\n      <td>Married</td>\n      <td>230.0</td>\n      <td>25</td>\n      <td>1</td>\n      <td>40.0</td>\n      <td>Female</td>\n      <td>Black or African American alone</td>\n      <td>True</td>\n    </tr>\n    <tr>\n      <th>...</th>\n      <td>...</td>\n      <td>...</td>\n      <td>...</td>\n      <td>...</td>\n      <td>...</td>\n      <td>...</td>\n      <td>...</td>\n      <td>...</td>\n      <td>...</td>\n      <td>...</td>\n      <td>...</td>\n    </tr>\n    <tr>\n      <th>29232</th>\n      <td>19</td>\n      <td>Employee of a private for-profit company orbus...</td>\n      <td>Some college, but less than 1 year</td>\n      <td>Never married or under 15 years old</td>\n      <td>3955.0</td>\n      <td>44</td>\n      <td>17</td>\n      <td>22.0</td>\n      <td>Male</td>\n      <td>White alone</td>\n      <td>False</td>\n    </tr>\n    <tr>\n      <th>29233</th>\n      <td>20</td>\n      <td>Employee of a private for-profit company orbus...</td>\n      <td>Bachelor's degree</td>\n      <td>Never married or under 15 years old</td>\n      <td>4760.0</td>\n      <td>341</td>\n      <td>17</td>\n      <td>7.0</td>\n      <td>Female</td>\n      <td>Two or More Races</td>\n      <td>False</td>\n    </tr>\n    <tr>\n      <th>29234</th>\n      <td>19</td>\n      <td>Employee of a private for-profit company orbus...</td>\n      <td>1 or more years of college credit, no degree</td>\n      <td>Never married or under 15 years old</td>\n      <td>4150.0</td>\n      <td>9</td>\n      <td>17</td>\n      <td>20.0</td>\n      <td>Female</td>\n      <td>White alone</td>\n      <td>False</td>\n    </tr>\n    <tr>\n      <th>29235</th>\n      <td>20</td>\n      <td>Employee of a private not-for-profit, tax-exem...</td>\n      <td>Regular high school diploma</td>\n      <td>Never married or under 15 years old</td>\n      <td>726.0</td>\n      <td>416</td>\n      <td>17</td>\n      <td>7.0</td>\n      <td>Female</td>\n      <td>Black or African American alone</td>\n      <td>False</td>\n    </tr>\n    <tr>\n      <th>29236</th>\n      <td>19</td>\n      <td>Employee of a private for-profit company orbus...</td>\n      <td>1 or more years of college credit, no degree</td>\n      <td>Never married or under 15 years old</td>\n      <td>4110.0</td>\n      <td>9</td>\n      <td>17</td>\n      <td>29.0</td>\n      <td>Female</td>\n      <td>White alone</td>\n      <td>False</td>\n    </tr>\n  </tbody>\n</table>\n<p>29237 rows × 11 columns</p>\n</div>"
     },
     "execution_count": 5,
     "metadata": {},
     "output_type": "execute_result"
    }
   ],
   "source": [
    "combined = pd.concat([features, labels], axis=1)\n",
    "combined.to_csv('acs_income_RI_2017_5y.csv', index=False, sep=\";\")\n",
    "combined"
   ],
   "metadata": {
    "collapsed": false,
    "pycharm": {
     "name": "#%%\n"
    }
   }
  },
  {
   "cell_type": "code",
   "execution_count": 6,
   "outputs": [
    {
     "data": {
      "text/plain": "       AGEP                                                COW  \\\n0        63     Local government employee (city, county, etc.)   \n1        55     Local government employee (city, county, etc.)   \n2        17  Employee of a private for-profit company orbus...   \n3        48  Employee of a private for-profit company orbus...   \n4        45  Employee of a private for-profit company orbus...   \n...     ...                                                ...   \n29232    19  Employee of a private for-profit company orbus...   \n29233    20  Employee of a private for-profit company orbus...   \n29234    19  Employee of a private for-profit company orbus...   \n29235    20  Employee of a private not-for-profit, tax-exem...   \n29236    19  Employee of a private for-profit company orbus...   \n\n                                               SCHL  \\\n0                                 Bachelor's degree   \n1                                Associate's degree   \n2                                          Grade 11   \n3                                 Bachelor's degree   \n4                                   Master's degree   \n...                                             ...   \n29232            Some college, but less than 1 year   \n29233                             Bachelor's degree   \n29234  1 or more years of college credit, no degree   \n29235                   Regular high school diploma   \n29236  1 or more years of college credit, no degree   \n\n                                       MAR    OCCP  POBP  RELP  WKHP     SEX  \\\n0                                  Married  5120.0   129     0  55.0    Male   \n1                                  Married  5860.0    44     1  19.0  Female   \n2      Never married or under 15 years old  4220.0    44     2   5.0    Male   \n3                                  Married  4700.0    36     0  50.0    Male   \n4                                  Married   230.0    25     1  40.0  Female   \n...                                    ...     ...   ...   ...   ...     ...   \n29232  Never married or under 15 years old  3955.0    44    17  22.0    Male   \n29233  Never married or under 15 years old  4760.0   341    17   7.0  Female   \n29234  Never married or under 15 years old  4150.0     9    17  20.0  Female   \n29235  Never married or under 15 years old   726.0   416    17   7.0  Female   \n29236  Never married or under 15 years old  4110.0     9    17  29.0  Female   \n\n                                 RAC1P  PINCP  \n0                          White alone   True  \n1                          White alone   True  \n2                          White alone  False  \n3      Black or African American alone   True  \n4      Black or African American alone   True  \n...                                ...    ...  \n29232                      White alone  False  \n29233                Two or More Races  False  \n29234                      White alone  False  \n29235  Black or African American alone  False  \n29236                      White alone  False  \n\n[29237 rows x 11 columns]",
      "text/html": "<div>\n<style scoped>\n    .dataframe tbody tr th:only-of-type {\n        vertical-align: middle;\n    }\n\n    .dataframe tbody tr th {\n        vertical-align: top;\n    }\n\n    .dataframe thead th {\n        text-align: right;\n    }\n</style>\n<table border=\"1\" class=\"dataframe\">\n  <thead>\n    <tr style=\"text-align: right;\">\n      <th></th>\n      <th>AGEP</th>\n      <th>COW</th>\n      <th>SCHL</th>\n      <th>MAR</th>\n      <th>OCCP</th>\n      <th>POBP</th>\n      <th>RELP</th>\n      <th>WKHP</th>\n      <th>SEX</th>\n      <th>RAC1P</th>\n      <th>PINCP</th>\n    </tr>\n  </thead>\n  <tbody>\n    <tr>\n      <th>0</th>\n      <td>63</td>\n      <td>Local government employee (city, county, etc.)</td>\n      <td>Bachelor's degree</td>\n      <td>Married</td>\n      <td>5120.0</td>\n      <td>129</td>\n      <td>0</td>\n      <td>55.0</td>\n      <td>Male</td>\n      <td>White alone</td>\n      <td>True</td>\n    </tr>\n    <tr>\n      <th>1</th>\n      <td>55</td>\n      <td>Local government employee (city, county, etc.)</td>\n      <td>Associate's degree</td>\n      <td>Married</td>\n      <td>5860.0</td>\n      <td>44</td>\n      <td>1</td>\n      <td>19.0</td>\n      <td>Female</td>\n      <td>White alone</td>\n      <td>True</td>\n    </tr>\n    <tr>\n      <th>2</th>\n      <td>17</td>\n      <td>Employee of a private for-profit company orbus...</td>\n      <td>Grade 11</td>\n      <td>Never married or under 15 years old</td>\n      <td>4220.0</td>\n      <td>44</td>\n      <td>2</td>\n      <td>5.0</td>\n      <td>Male</td>\n      <td>White alone</td>\n      <td>False</td>\n    </tr>\n    <tr>\n      <th>3</th>\n      <td>48</td>\n      <td>Employee of a private for-profit company orbus...</td>\n      <td>Bachelor's degree</td>\n      <td>Married</td>\n      <td>4700.0</td>\n      <td>36</td>\n      <td>0</td>\n      <td>50.0</td>\n      <td>Male</td>\n      <td>Black or African American alone</td>\n      <td>True</td>\n    </tr>\n    <tr>\n      <th>4</th>\n      <td>45</td>\n      <td>Employee of a private for-profit company orbus...</td>\n      <td>Master's degree</td>\n      <td>Married</td>\n      <td>230.0</td>\n      <td>25</td>\n      <td>1</td>\n      <td>40.0</td>\n      <td>Female</td>\n      <td>Black or African American alone</td>\n      <td>True</td>\n    </tr>\n    <tr>\n      <th>...</th>\n      <td>...</td>\n      <td>...</td>\n      <td>...</td>\n      <td>...</td>\n      <td>...</td>\n      <td>...</td>\n      <td>...</td>\n      <td>...</td>\n      <td>...</td>\n      <td>...</td>\n      <td>...</td>\n    </tr>\n    <tr>\n      <th>29232</th>\n      <td>19</td>\n      <td>Employee of a private for-profit company orbus...</td>\n      <td>Some college, but less than 1 year</td>\n      <td>Never married or under 15 years old</td>\n      <td>3955.0</td>\n      <td>44</td>\n      <td>17</td>\n      <td>22.0</td>\n      <td>Male</td>\n      <td>White alone</td>\n      <td>False</td>\n    </tr>\n    <tr>\n      <th>29233</th>\n      <td>20</td>\n      <td>Employee of a private for-profit company orbus...</td>\n      <td>Bachelor's degree</td>\n      <td>Never married or under 15 years old</td>\n      <td>4760.0</td>\n      <td>341</td>\n      <td>17</td>\n      <td>7.0</td>\n      <td>Female</td>\n      <td>Two or More Races</td>\n      <td>False</td>\n    </tr>\n    <tr>\n      <th>29234</th>\n      <td>19</td>\n      <td>Employee of a private for-profit company orbus...</td>\n      <td>1 or more years of college credit, no degree</td>\n      <td>Never married or under 15 years old</td>\n      <td>4150.0</td>\n      <td>9</td>\n      <td>17</td>\n      <td>20.0</td>\n      <td>Female</td>\n      <td>White alone</td>\n      <td>False</td>\n    </tr>\n    <tr>\n      <th>29235</th>\n      <td>20</td>\n      <td>Employee of a private not-for-profit, tax-exem...</td>\n      <td>Regular high school diploma</td>\n      <td>Never married or under 15 years old</td>\n      <td>726.0</td>\n      <td>416</td>\n      <td>17</td>\n      <td>7.0</td>\n      <td>Female</td>\n      <td>Black or African American alone</td>\n      <td>False</td>\n    </tr>\n    <tr>\n      <th>29236</th>\n      <td>19</td>\n      <td>Employee of a private for-profit company orbus...</td>\n      <td>1 or more years of college credit, no degree</td>\n      <td>Never married or under 15 years old</td>\n      <td>4110.0</td>\n      <td>9</td>\n      <td>17</td>\n      <td>29.0</td>\n      <td>Female</td>\n      <td>White alone</td>\n      <td>False</td>\n    </tr>\n  </tbody>\n</table>\n<p>29237 rows × 11 columns</p>\n</div>"
     },
     "execution_count": 6,
     "metadata": {},
     "output_type": "execute_result"
    }
   ],
   "source": [
    "test_acs = pd.read_csv(\"acs_income_RI_2017_5y.csv\", delimiter=\";\")\n",
    "test_acs"
   ],
   "metadata": {
    "collapsed": false,
    "pycharm": {
     "name": "#%%\n"
    }
   }
  },
  {
   "cell_type": "code",
   "execution_count": 8,
   "outputs": [
    {
     "data": {
      "text/plain": "      AGEP                                                COW  \\\n0       63     Local government employee (city, county, etc.)   \n1       55     Local government employee (city, county, etc.)   \n2       17  Employee of a private for-profit company orbus...   \n3       48  Employee of a private for-profit company orbus...   \n4       45  Employee of a private for-profit company orbus...   \n...    ...                                                ...   \n29232   19  Employee of a private for-profit company orbus...   \n29233   20  Employee of a private for-profit company orbus...   \n29234   19  Employee of a private for-profit company orbus...   \n29235   20  Employee of a private not-for-profit, tax-exem...   \n29236   19  Employee of a private for-profit company orbus...   \n\n                                               SCHL  \\\n0                                 Bachelor's degree   \n1                                Associate's degree   \n2                                          Grade 11   \n3                                 Bachelor's degree   \n4                                   Master's degree   \n...                                             ...   \n29232            Some college, but less than 1 year   \n29233                             Bachelor's degree   \n29234  1 or more years of college credit, no degree   \n29235                   Regular high school diploma   \n29236  1 or more years of college credit, no degree   \n\n                                       MAR    OCCP POBP RELP  WKHP     SEX  \\\n0                                  Married  5120.0  129    0  55.0    Male   \n1                                  Married  5860.0   44    1  19.0  Female   \n2      Never married or under 15 years old  4220.0   44    2   5.0    Male   \n3                                  Married  4700.0   36    0  50.0    Male   \n4                                  Married   230.0   25    1  40.0  Female   \n...                                    ...     ...  ...  ...   ...     ...   \n29232  Never married or under 15 years old  3955.0   44   17  22.0    Male   \n29233  Never married or under 15 years old  4760.0  341   17   7.0  Female   \n29234  Never married or under 15 years old  4150.0    9   17  20.0  Female   \n29235  Never married or under 15 years old   726.0  416   17   7.0  Female   \n29236  Never married or under 15 years old  4110.0    9   17  29.0  Female   \n\n                                 RAC1P  \n0                          White alone  \n1                          White alone  \n2                          White alone  \n3      Black or African American alone  \n4      Black or African American alone  \n...                                ...  \n29232                      White alone  \n29233                Two or More Races  \n29234                      White alone  \n29235  Black or African American alone  \n29236                      White alone  \n\n[29237 rows x 10 columns]",
      "text/html": "<div>\n<style scoped>\n    .dataframe tbody tr th:only-of-type {\n        vertical-align: middle;\n    }\n\n    .dataframe tbody tr th {\n        vertical-align: top;\n    }\n\n    .dataframe thead th {\n        text-align: right;\n    }\n</style>\n<table border=\"1\" class=\"dataframe\">\n  <thead>\n    <tr style=\"text-align: right;\">\n      <th></th>\n      <th>AGEP</th>\n      <th>COW</th>\n      <th>SCHL</th>\n      <th>MAR</th>\n      <th>OCCP</th>\n      <th>POBP</th>\n      <th>RELP</th>\n      <th>WKHP</th>\n      <th>SEX</th>\n      <th>RAC1P</th>\n    </tr>\n  </thead>\n  <tbody>\n    <tr>\n      <th>0</th>\n      <td>63</td>\n      <td>Local government employee (city, county, etc.)</td>\n      <td>Bachelor's degree</td>\n      <td>Married</td>\n      <td>5120.0</td>\n      <td>129</td>\n      <td>0</td>\n      <td>55.0</td>\n      <td>Male</td>\n      <td>White alone</td>\n    </tr>\n    <tr>\n      <th>1</th>\n      <td>55</td>\n      <td>Local government employee (city, county, etc.)</td>\n      <td>Associate's degree</td>\n      <td>Married</td>\n      <td>5860.0</td>\n      <td>44</td>\n      <td>1</td>\n      <td>19.0</td>\n      <td>Female</td>\n      <td>White alone</td>\n    </tr>\n    <tr>\n      <th>2</th>\n      <td>17</td>\n      <td>Employee of a private for-profit company orbus...</td>\n      <td>Grade 11</td>\n      <td>Never married or under 15 years old</td>\n      <td>4220.0</td>\n      <td>44</td>\n      <td>2</td>\n      <td>5.0</td>\n      <td>Male</td>\n      <td>White alone</td>\n    </tr>\n    <tr>\n      <th>3</th>\n      <td>48</td>\n      <td>Employee of a private for-profit company orbus...</td>\n      <td>Bachelor's degree</td>\n      <td>Married</td>\n      <td>4700.0</td>\n      <td>36</td>\n      <td>0</td>\n      <td>50.0</td>\n      <td>Male</td>\n      <td>Black or African American alone</td>\n    </tr>\n    <tr>\n      <th>4</th>\n      <td>45</td>\n      <td>Employee of a private for-profit company orbus...</td>\n      <td>Master's degree</td>\n      <td>Married</td>\n      <td>230.0</td>\n      <td>25</td>\n      <td>1</td>\n      <td>40.0</td>\n      <td>Female</td>\n      <td>Black or African American alone</td>\n    </tr>\n    <tr>\n      <th>...</th>\n      <td>...</td>\n      <td>...</td>\n      <td>...</td>\n      <td>...</td>\n      <td>...</td>\n      <td>...</td>\n      <td>...</td>\n      <td>...</td>\n      <td>...</td>\n      <td>...</td>\n    </tr>\n    <tr>\n      <th>29232</th>\n      <td>19</td>\n      <td>Employee of a private for-profit company orbus...</td>\n      <td>Some college, but less than 1 year</td>\n      <td>Never married or under 15 years old</td>\n      <td>3955.0</td>\n      <td>44</td>\n      <td>17</td>\n      <td>22.0</td>\n      <td>Male</td>\n      <td>White alone</td>\n    </tr>\n    <tr>\n      <th>29233</th>\n      <td>20</td>\n      <td>Employee of a private for-profit company orbus...</td>\n      <td>Bachelor's degree</td>\n      <td>Never married or under 15 years old</td>\n      <td>4760.0</td>\n      <td>341</td>\n      <td>17</td>\n      <td>7.0</td>\n      <td>Female</td>\n      <td>Two or More Races</td>\n    </tr>\n    <tr>\n      <th>29234</th>\n      <td>19</td>\n      <td>Employee of a private for-profit company orbus...</td>\n      <td>1 or more years of college credit, no degree</td>\n      <td>Never married or under 15 years old</td>\n      <td>4150.0</td>\n      <td>9</td>\n      <td>17</td>\n      <td>20.0</td>\n      <td>Female</td>\n      <td>White alone</td>\n    </tr>\n    <tr>\n      <th>29235</th>\n      <td>20</td>\n      <td>Employee of a private not-for-profit, tax-exem...</td>\n      <td>Regular high school diploma</td>\n      <td>Never married or under 15 years old</td>\n      <td>726.0</td>\n      <td>416</td>\n      <td>17</td>\n      <td>7.0</td>\n      <td>Female</td>\n      <td>Black or African American alone</td>\n    </tr>\n    <tr>\n      <th>29236</th>\n      <td>19</td>\n      <td>Employee of a private for-profit company orbus...</td>\n      <td>1 or more years of college credit, no degree</td>\n      <td>Never married or under 15 years old</td>\n      <td>4110.0</td>\n      <td>9</td>\n      <td>17</td>\n      <td>29.0</td>\n      <td>Female</td>\n      <td>White alone</td>\n    </tr>\n  </tbody>\n</table>\n<p>29237 rows × 10 columns</p>\n</div>"
     },
     "execution_count": 8,
     "metadata": {},
     "output_type": "execute_result"
    }
   ],
   "source": [
    "features"
   ],
   "metadata": {
    "collapsed": false,
    "pycharm": {
     "name": "#%%\n"
    }
   }
  },
  {
   "cell_type": "code",
   "execution_count": 16,
   "outputs": [
    {
     "data": {
      "text/plain": "(29237, 34)"
     },
     "execution_count": 16,
     "metadata": {},
     "output_type": "execute_result"
    }
   ],
   "source": [
    "from sklearn.preprocessing import OneHotEncoder\n",
    "from mlmq.monkeypatching._mlinspect_ndarray import MlinspectNdarray\n",
    "test_combined = OneHotEncoder().fit_transform(MlinspectNdarray(test_acs[[\"COW\", \"SCHL\", \"SEX\"]].to_numpy())).shape\n",
    "test_combined"
   ],
   "metadata": {
    "collapsed": false,
    "pycharm": {
     "name": "#%%\n"
    }
   }
  },
  {
   "cell_type": "code",
   "execution_count": 14,
   "outputs": [
    {
     "data": {
      "text/plain": "(29237, 34)"
     },
     "execution_count": 14,
     "metadata": {},
     "output_type": "execute_result"
    }
   ],
   "source": [
    "test_a = OneHotEncoder().fit_transform(test_acs[[\"COW\"]]).shape\n",
    "test_b = OneHotEncoder().fit_transform(test_acs[[\"SCHL\"]]).shape\n",
    "test_c = OneHotEncoder().fit_transform(test_acs[[\"SEX\"]]).shape\n",
    "(test_a[0], test_a[1] + test_b[1] + test_c[1])"
   ],
   "metadata": {
    "collapsed": false,
    "pycharm": {
     "name": "#%%\n"
    }
   }
  }
 ],
 "metadata": {
  "kernelspec": {
   "display_name": "Python 3",
   "language": "python",
   "name": "python3"
  },
  "language_info": {
   "codemirror_mode": {
    "name": "ipython",
    "version": 2
   },
   "file_extension": ".py",
   "mimetype": "text/x-python",
   "name": "python",
   "nbconvert_exporter": "python",
   "pygments_lexer": "ipython2",
   "version": "2.7.6"
  }
 },
 "nbformat": 4,
 "nbformat_minor": 0
}