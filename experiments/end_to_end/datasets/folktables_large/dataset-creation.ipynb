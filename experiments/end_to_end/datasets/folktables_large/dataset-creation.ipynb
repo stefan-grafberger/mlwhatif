{
 "cells": [
  {
   "cell_type": "code",
   "execution_count": 1,
   "metadata": {
    "collapsed": true
   },
   "outputs": [],
   "source": [
    "import pandas as pd\n",
    "import numpy as np\n",
    "\n",
    "ACSIncome_categories = {\n",
    "    \"COW\": {\n",
    "        1.0: (\n",
    "            \"Employee of a private for-profit company or\"\n",
    "            \"business, or of an individual, for wages,\"\n",
    "            \"salary, or commissions\"\n",
    "        ),\n",
    "        2.0: (\n",
    "            \"Employee of a private not-for-profit, tax-exempt,\"\n",
    "            \"or charitable organization\"\n",
    "        ),\n",
    "        3.0: \"Local government employee (city, county, etc.)\",\n",
    "        4.0: \"State government employee\",\n",
    "        5.0: \"Federal government employee\",\n",
    "        6.0: (\n",
    "            \"Self-employed in own not incorporated business,\"\n",
    "            \"professional practice, or farm\"\n",
    "        ),\n",
    "        7.0: (\n",
    "            \"Self-employed in own incorporated business,\"\n",
    "            \"professional practice or farm\"\n",
    "        ),\n",
    "        8.0: \"Working without pay in family business or farm\",\n",
    "        9.0: \"Unemployed and last worked 5 years ago or earlier or never worked\",\n",
    "    },\n",
    "    \"SCHL\": {\n",
    "        1.0: \"No schooling completed\",\n",
    "        2.0: \"Nursery school, preschool\",\n",
    "        3.0: \"Kindergarten\",\n",
    "        4.0: \"Grade 1\",\n",
    "        5.0: \"Grade 2\",\n",
    "        6.0: \"Grade 3\",\n",
    "        7.0: \"Grade 4\",\n",
    "        8.0: \"Grade 5\",\n",
    "        9.0: \"Grade 6\",\n",
    "        10.0: \"Grade 7\",\n",
    "        11.0: \"Grade 8\",\n",
    "        12.0: \"Grade 9\",\n",
    "        13.0: \"Grade 10\",\n",
    "        14.0: \"Grade 11\",\n",
    "        15.0: \"12th grade - no diploma\",\n",
    "        16.0: \"Regular high school diploma\",\n",
    "        17.0: \"GED or alternative credential\",\n",
    "        18.0: \"Some college, but less than 1 year\",\n",
    "        19.0: \"1 or more years of college credit, no degree\",\n",
    "        20.0: \"Associate's degree\",\n",
    "        21.0: \"Bachelor's degree\",\n",
    "        22.0: \"Master's degree\",\n",
    "        23.0: \"Professional degree beyond a bachelor's degree\",\n",
    "        24.0: \"Doctorate degree\",\n",
    "    },\n",
    "    \"MAR\": {\n",
    "        1.0: \"Married\",\n",
    "        2.0: \"Widowed\",\n",
    "        3.0: \"Divorced\",\n",
    "        4.0: \"Separated\",\n",
    "        5.0: \"Never married or under 15 years old\",\n",
    "    },\n",
    "    \"SEX\": {1.0: \"Male\", 2.0: \"Female\"},\n",
    "    \"RAC1P\": {\n",
    "        1.0: \"White alone\",\n",
    "        2.0: \"Black or African American alone\",\n",
    "        3.0: \"American Indian alone\",\n",
    "        4.0: \"Alaska Native alone\",\n",
    "        5.0: (\n",
    "            \"American Indian and Alaska Native tribes specified;\"\n",
    "            \"or American Indian or Alaska Native,\"\n",
    "            \"not specified and no other\"\n",
    "        ),\n",
    "        6.0: \"Asian alone\",\n",
    "        7.0: \"Native Hawaiian and Other Pacific Islander alone\",\n",
    "        8.0: \"Some Other Race alone\",\n",
    "        9.0: \"Two or More Races\",\n",
    "    },\n",
    "}\n",
    "\n",
    "def df_to_pandas(self, df, categories=None, dummies=False):\n",
    "        \"\"\"Filters and processes a DataFrame (received from ```ACSDataSource''').\n",
    "\n",
    "        Args:\n",
    "            df: pd.DataFrame (received from ```ACSDataSource''')\n",
    "            categories: nested dict with columns of categorical features\n",
    "                and their corresponding encodings (see examples folder)\n",
    "            dummies: bool to indicate the creation of dummy variables for\n",
    "                categorical features (see examples folder)\n",
    "\n",
    "        Returns:\n",
    "            pandas.DataFrame.\"\"\"\n",
    "\n",
    "        df = self._preprocess(df)\n",
    "\n",
    "        variables = df[self.features]\n",
    "\n",
    "        if categories:\n",
    "            variables = variables.replace(categories)\n",
    "\n",
    "        if dummies:\n",
    "            variables = pd.get_dummies(variables)\n",
    "\n",
    "        variables = pd.DataFrame(self._postprocess(variables.to_numpy()),\n",
    "                                 columns=variables.columns)\n",
    "\n",
    "        if self.target_transform is None:\n",
    "            target = df[self.target]\n",
    "        else:\n",
    "            target = self.target_transform(df[self.target])\n",
    "\n",
    "        target = pd.DataFrame(target).reset_index(drop=True)\n",
    "\n",
    "        if self._group:\n",
    "            group = self.group_transform(df[self.group])\n",
    "            group = pd.DataFrame(group).reset_index(drop=True)\n",
    "        else:\n",
    "            group = pd.DataFrame(0, index=np.arange(len(target)), columns=[\"group\"])\n",
    "\n",
    "        return variables, target, group"
   ]
  },
  {
   "cell_type": "code",
   "execution_count": 2,
   "outputs": [
    {
     "name": "stdout",
     "output_type": "stream",
     "text": [
      "Downloading data for 2017 1-Year person survey for AZ...\n",
      "Downloading data for 2017 1-Year person survey for AR...\n",
      "Downloading data for 2017 1-Year person survey for CA...\n",
      "Downloading data for 2017 1-Year person survey for CO...\n",
      "Downloading data for 2017 1-Year person survey for CT...\n",
      "Downloading data for 2017 1-Year person survey for DE...\n",
      "Downloading data for 2017 1-Year person survey for FL...\n",
      "Downloading data for 2017 1-Year person survey for GA...\n",
      "Downloading data for 2017 1-Year person survey for HI...\n",
      "Downloading data for 2017 1-Year person survey for ID...\n",
      "Downloading data for 2017 1-Year person survey for IL...\n",
      "Downloading data for 2017 1-Year person survey for IN...\n",
      "Downloading data for 2017 1-Year person survey for IA...\n",
      "Downloading data for 2017 1-Year person survey for KS...\n",
      "Downloading data for 2017 1-Year person survey for KY...\n",
      "Downloading data for 2017 1-Year person survey for LA...\n",
      "Downloading data for 2017 1-Year person survey for ME...\n",
      "Downloading data for 2017 1-Year person survey for MD...\n",
      "Downloading data for 2017 1-Year person survey for MA...\n",
      "Downloading data for 2017 1-Year person survey for MI...\n",
      "Downloading data for 2017 1-Year person survey for MN...\n",
      "Downloading data for 2017 1-Year person survey for MS...\n",
      "Downloading data for 2017 1-Year person survey for MO...\n",
      "Downloading data for 2017 1-Year person survey for MT...\n",
      "Downloading data for 2017 1-Year person survey for NE...\n",
      "Downloading data for 2017 1-Year person survey for NV...\n",
      "Downloading data for 2017 1-Year person survey for NH...\n",
      "Downloading data for 2017 1-Year person survey for NJ...\n",
      "Downloading data for 2017 1-Year person survey for NM...\n",
      "Downloading data for 2017 1-Year person survey for NY...\n",
      "Downloading data for 2017 1-Year person survey for NC...\n",
      "Downloading data for 2017 1-Year person survey for ND...\n",
      "Downloading data for 2017 1-Year person survey for OH...\n",
      "Downloading data for 2017 1-Year person survey for OK...\n",
      "Downloading data for 2017 1-Year person survey for OR...\n",
      "Downloading data for 2017 1-Year person survey for PA...\n",
      "Downloading data for 2017 1-Year person survey for RI...\n",
      "Downloading data for 2017 1-Year person survey for SC...\n",
      "Downloading data for 2017 1-Year person survey for SD...\n",
      "Downloading data for 2017 1-Year person survey for TN...\n",
      "Downloading data for 2017 1-Year person survey for TX...\n",
      "Downloading data for 2017 1-Year person survey for UT...\n",
      "Downloading data for 2017 1-Year person survey for VT...\n",
      "Downloading data for 2017 1-Year person survey for VA...\n",
      "Downloading data for 2017 1-Year person survey for WA...\n",
      "Downloading data for 2017 1-Year person survey for WV...\n",
      "Downloading data for 2017 1-Year person survey for WI...\n",
      "Downloading data for 2017 1-Year person survey for WY...\n",
      "Downloading data for 2017 1-Year person survey for PR...\n"
     ]
    }
   ],
   "source": [
    "\n",
    "from folktables import ACSDataSource, ACSIncome, ACSEmployment\n",
    "\n",
    "data_source = ACSDataSource(survey_year='2017', horizon='1-Year', survey='person')\n",
    "ca_data = data_source.get_data(download=True)  # CT 20,000 rows\n",
    "\n",
    "features, labels, group = df_to_pandas(ACSIncome, ca_data, ACSIncome_categories)"
   ],
   "metadata": {
    "collapsed": false,
    "pycharm": {
     "name": "#%%\n"
    }
   }
  },
  {
   "cell_type": "code",
   "execution_count": 3,
   "outputs": [
    {
     "data": {
      "text/plain": "        AGEP                                                COW  \\\n1613902   48  Employee of a private for-profit company orbus...   \n663190    79  Employee of a private for-profit company orbus...   \n1212905   33                          State government employee   \n954827    38  Employee of a private for-profit company orbus...   \n899205    40  Employee of a private for-profit company orbus...   \n...      ...                                                ...   \n998283    42  Employee of a private for-profit company orbus...   \n343117    51  Employee of a private for-profit company orbus...   \n1173223   36  Self-employed in own not incorporated business...   \n771557    22  Employee of a private for-profit company orbus...   \n453001    20  Employee of a private for-profit company orbus...   \n\n                                                 SCHL  \\\n1613902  1 or more years of college credit, no degree   \n663190                                        Grade 8   \n1212905                               Master's degree   \n954827                              Bachelor's degree   \n899205                                Master's degree   \n...                                               ...   \n998283                             Associate's degree   \n343117   1 or more years of college credit, no degree   \n1173223                             Bachelor's degree   \n771557                    Regular high school diploma   \n453001                    Regular high school diploma   \n\n                                         MAR    OCCP POBP RELP  WKHP     SEX  \\\n1613902                              Married  7340.0   55    0  45.0    Male   \n663190                               Married  6330.0  301    0  32.0    Male   \n1212905                             Divorced  2320.0   24    2  40.0  Female   \n954827                               Married  4700.0   35    0  55.0    Male   \n899205   Never married or under 15 years old  4700.0   25    0  45.0  Female   \n...                                      ...     ...  ...  ...   ...     ...   \n998283   Never married or under 15 years old  4760.0   36    2  30.0  Female   \n343117                               Married   840.0  363    1  50.0  Female   \n1173223  Never married or under 15 years old  4760.0   39    4  10.0    Male   \n771557   Never married or under 15 years old  4600.0   12    2  40.0  Female   \n453001   Never married or under 15 years old  4720.0  303    2  24.0  Female   \n\n                         RAC1P  PINCP  \n1613902            White alone   True  \n663190             White alone  False  \n1212905            White alone   True  \n954827   Some Other Race alone   True  \n899205             White alone   True  \n...                        ...    ...  \n998283             White alone  False  \n343117             White alone   True  \n1173223            White alone  False  \n771557             White alone  False  \n453001             White alone  False  \n\n[100000 rows x 11 columns]",
      "text/html": "<div>\n<style scoped>\n    .dataframe tbody tr th:only-of-type {\n        vertical-align: middle;\n    }\n\n    .dataframe tbody tr th {\n        vertical-align: top;\n    }\n\n    .dataframe thead th {\n        text-align: right;\n    }\n</style>\n<table border=\"1\" class=\"dataframe\">\n  <thead>\n    <tr style=\"text-align: right;\">\n      <th></th>\n      <th>AGEP</th>\n      <th>COW</th>\n      <th>SCHL</th>\n      <th>MAR</th>\n      <th>OCCP</th>\n      <th>POBP</th>\n      <th>RELP</th>\n      <th>WKHP</th>\n      <th>SEX</th>\n      <th>RAC1P</th>\n      <th>PINCP</th>\n    </tr>\n  </thead>\n  <tbody>\n    <tr>\n      <th>1613902</th>\n      <td>48</td>\n      <td>Employee of a private for-profit company orbus...</td>\n      <td>1 or more years of college credit, no degree</td>\n      <td>Married</td>\n      <td>7340.0</td>\n      <td>55</td>\n      <td>0</td>\n      <td>45.0</td>\n      <td>Male</td>\n      <td>White alone</td>\n      <td>True</td>\n    </tr>\n    <tr>\n      <th>663190</th>\n      <td>79</td>\n      <td>Employee of a private for-profit company orbus...</td>\n      <td>Grade 8</td>\n      <td>Married</td>\n      <td>6330.0</td>\n      <td>301</td>\n      <td>0</td>\n      <td>32.0</td>\n      <td>Male</td>\n      <td>White alone</td>\n      <td>False</td>\n    </tr>\n    <tr>\n      <th>1212905</th>\n      <td>33</td>\n      <td>State government employee</td>\n      <td>Master's degree</td>\n      <td>Divorced</td>\n      <td>2320.0</td>\n      <td>24</td>\n      <td>2</td>\n      <td>40.0</td>\n      <td>Female</td>\n      <td>White alone</td>\n      <td>True</td>\n    </tr>\n    <tr>\n      <th>954827</th>\n      <td>38</td>\n      <td>Employee of a private for-profit company orbus...</td>\n      <td>Bachelor's degree</td>\n      <td>Married</td>\n      <td>4700.0</td>\n      <td>35</td>\n      <td>0</td>\n      <td>55.0</td>\n      <td>Male</td>\n      <td>Some Other Race alone</td>\n      <td>True</td>\n    </tr>\n    <tr>\n      <th>899205</th>\n      <td>40</td>\n      <td>Employee of a private for-profit company orbus...</td>\n      <td>Master's degree</td>\n      <td>Never married or under 15 years old</td>\n      <td>4700.0</td>\n      <td>25</td>\n      <td>0</td>\n      <td>45.0</td>\n      <td>Female</td>\n      <td>White alone</td>\n      <td>True</td>\n    </tr>\n    <tr>\n      <th>...</th>\n      <td>...</td>\n      <td>...</td>\n      <td>...</td>\n      <td>...</td>\n      <td>...</td>\n      <td>...</td>\n      <td>...</td>\n      <td>...</td>\n      <td>...</td>\n      <td>...</td>\n      <td>...</td>\n    </tr>\n    <tr>\n      <th>998283</th>\n      <td>42</td>\n      <td>Employee of a private for-profit company orbus...</td>\n      <td>Associate's degree</td>\n      <td>Never married or under 15 years old</td>\n      <td>4760.0</td>\n      <td>36</td>\n      <td>2</td>\n      <td>30.0</td>\n      <td>Female</td>\n      <td>White alone</td>\n      <td>False</td>\n    </tr>\n    <tr>\n      <th>343117</th>\n      <td>51</td>\n      <td>Employee of a private for-profit company orbus...</td>\n      <td>1 or more years of college credit, no degree</td>\n      <td>Married</td>\n      <td>840.0</td>\n      <td>363</td>\n      <td>1</td>\n      <td>50.0</td>\n      <td>Female</td>\n      <td>White alone</td>\n      <td>True</td>\n    </tr>\n    <tr>\n      <th>1173223</th>\n      <td>36</td>\n      <td>Self-employed in own not incorporated business...</td>\n      <td>Bachelor's degree</td>\n      <td>Never married or under 15 years old</td>\n      <td>4760.0</td>\n      <td>39</td>\n      <td>4</td>\n      <td>10.0</td>\n      <td>Male</td>\n      <td>White alone</td>\n      <td>False</td>\n    </tr>\n    <tr>\n      <th>771557</th>\n      <td>22</td>\n      <td>Employee of a private for-profit company orbus...</td>\n      <td>Regular high school diploma</td>\n      <td>Never married or under 15 years old</td>\n      <td>4600.0</td>\n      <td>12</td>\n      <td>2</td>\n      <td>40.0</td>\n      <td>Female</td>\n      <td>White alone</td>\n      <td>False</td>\n    </tr>\n    <tr>\n      <th>453001</th>\n      <td>20</td>\n      <td>Employee of a private for-profit company orbus...</td>\n      <td>Regular high school diploma</td>\n      <td>Never married or under 15 years old</td>\n      <td>4720.0</td>\n      <td>303</td>\n      <td>2</td>\n      <td>24.0</td>\n      <td>Female</td>\n      <td>White alone</td>\n      <td>False</td>\n    </tr>\n  </tbody>\n</table>\n<p>100000 rows × 11 columns</p>\n</div>"
     },
     "execution_count": 3,
     "metadata": {},
     "output_type": "execute_result"
    }
   ],
   "source": [
    "combined = pd.concat([features, labels], axis=1)\n",
    "combined = combined.sample(n=100_000)\n",
    "combined.to_csv('acs_income_all_2017_1y_100000.csv', index=False, sep=\";\")\n",
    "combined"
   ],
   "metadata": {
    "collapsed": false,
    "pycharm": {
     "name": "#%%\n"
    }
   }
  },
  {
   "cell_type": "code",
   "execution_count": 4,
   "outputs": [
    {
     "data": {
      "text/plain": "        AGEP                                                COW  \\\n0         51  Employee of a private for-profit company orbus...   \n1         24  Employee of a private for-profit company orbus...   \n2         62                          State government employee   \n3         29  Employee of a private for-profit company orbus...   \n4         28  Employee of a private for-profit company orbus...   \n...      ...                                                ...   \n499995    65  Self-employed in own incorporated business,pro...   \n499996    22                        Federal government employee   \n499997    54  Employee of a private for-profit company orbus...   \n499998    50  Employee of a private for-profit company orbus...   \n499999    52  Employee of a private for-profit company orbus...   \n\n                                                SCHL  \\\n0                                 Associate's degree   \n1                      GED or alternative credential   \n2                                  Bachelor's degree   \n3                        Regular high school diploma   \n4       1 or more years of college credit, no degree   \n...                                              ...   \n499995                              Doctorate degree   \n499996  1 or more years of college credit, no degree   \n499997  1 or more years of college credit, no degree   \n499998                             Bachelor's degree   \n499999                       12th grade - no diploma   \n\n                                        MAR    OCCP  POBP  RELP  WKHP     SEX  \\\n0                                   Married  2540.0   303     1  24.0  Female   \n1       Never married or under 15 years old  4850.0     6     2  30.0    Male   \n2                                   Married  2340.0    37     0  18.0  Female   \n3       Never married or under 15 years old  6240.0    31    13  40.0    Male   \n4                                  Divorced  9130.0    12     2  20.0    Male   \n...                                     ...     ...   ...   ...   ...     ...   \n499995                             Divorced  1820.0     6     0  65.0    Male   \n499996                              Married   700.0    36     1  40.0  Female   \n499997                             Divorced  4020.0    17     0  36.0    Male   \n499998                              Married  2200.0    34     1  40.0  Female   \n499999                             Divorced  6260.0    22     0  40.0    Male   \n\n              RAC1P  PINCP  \n0       White alone  False  \n1       Asian alone  False  \n2       White alone  False  \n3       White alone  False  \n4       White alone  False  \n...             ...    ...  \n499995  White alone   True  \n499996  White alone  False  \n499997  White alone  False  \n499998  White alone  False  \n499999  White alone  False  \n\n[500000 rows x 11 columns]",
      "text/html": "<div>\n<style scoped>\n    .dataframe tbody tr th:only-of-type {\n        vertical-align: middle;\n    }\n\n    .dataframe tbody tr th {\n        vertical-align: top;\n    }\n\n    .dataframe thead th {\n        text-align: right;\n    }\n</style>\n<table border=\"1\" class=\"dataframe\">\n  <thead>\n    <tr style=\"text-align: right;\">\n      <th></th>\n      <th>AGEP</th>\n      <th>COW</th>\n      <th>SCHL</th>\n      <th>MAR</th>\n      <th>OCCP</th>\n      <th>POBP</th>\n      <th>RELP</th>\n      <th>WKHP</th>\n      <th>SEX</th>\n      <th>RAC1P</th>\n      <th>PINCP</th>\n    </tr>\n  </thead>\n  <tbody>\n    <tr>\n      <th>0</th>\n      <td>51</td>\n      <td>Employee of a private for-profit company orbus...</td>\n      <td>Associate's degree</td>\n      <td>Married</td>\n      <td>2540.0</td>\n      <td>303</td>\n      <td>1</td>\n      <td>24.0</td>\n      <td>Female</td>\n      <td>White alone</td>\n      <td>False</td>\n    </tr>\n    <tr>\n      <th>1</th>\n      <td>24</td>\n      <td>Employee of a private for-profit company orbus...</td>\n      <td>GED or alternative credential</td>\n      <td>Never married or under 15 years old</td>\n      <td>4850.0</td>\n      <td>6</td>\n      <td>2</td>\n      <td>30.0</td>\n      <td>Male</td>\n      <td>Asian alone</td>\n      <td>False</td>\n    </tr>\n    <tr>\n      <th>2</th>\n      <td>62</td>\n      <td>State government employee</td>\n      <td>Bachelor's degree</td>\n      <td>Married</td>\n      <td>2340.0</td>\n      <td>37</td>\n      <td>0</td>\n      <td>18.0</td>\n      <td>Female</td>\n      <td>White alone</td>\n      <td>False</td>\n    </tr>\n    <tr>\n      <th>3</th>\n      <td>29</td>\n      <td>Employee of a private for-profit company orbus...</td>\n      <td>Regular high school diploma</td>\n      <td>Never married or under 15 years old</td>\n      <td>6240.0</td>\n      <td>31</td>\n      <td>13</td>\n      <td>40.0</td>\n      <td>Male</td>\n      <td>White alone</td>\n      <td>False</td>\n    </tr>\n    <tr>\n      <th>4</th>\n      <td>28</td>\n      <td>Employee of a private for-profit company orbus...</td>\n      <td>1 or more years of college credit, no degree</td>\n      <td>Divorced</td>\n      <td>9130.0</td>\n      <td>12</td>\n      <td>2</td>\n      <td>20.0</td>\n      <td>Male</td>\n      <td>White alone</td>\n      <td>False</td>\n    </tr>\n    <tr>\n      <th>...</th>\n      <td>...</td>\n      <td>...</td>\n      <td>...</td>\n      <td>...</td>\n      <td>...</td>\n      <td>...</td>\n      <td>...</td>\n      <td>...</td>\n      <td>...</td>\n      <td>...</td>\n      <td>...</td>\n    </tr>\n    <tr>\n      <th>499995</th>\n      <td>65</td>\n      <td>Self-employed in own incorporated business,pro...</td>\n      <td>Doctorate degree</td>\n      <td>Divorced</td>\n      <td>1820.0</td>\n      <td>6</td>\n      <td>0</td>\n      <td>65.0</td>\n      <td>Male</td>\n      <td>White alone</td>\n      <td>True</td>\n    </tr>\n    <tr>\n      <th>499996</th>\n      <td>22</td>\n      <td>Federal government employee</td>\n      <td>1 or more years of college credit, no degree</td>\n      <td>Married</td>\n      <td>700.0</td>\n      <td>36</td>\n      <td>1</td>\n      <td>40.0</td>\n      <td>Female</td>\n      <td>White alone</td>\n      <td>False</td>\n    </tr>\n    <tr>\n      <th>499997</th>\n      <td>54</td>\n      <td>Employee of a private for-profit company orbus...</td>\n      <td>1 or more years of college credit, no degree</td>\n      <td>Divorced</td>\n      <td>4020.0</td>\n      <td>17</td>\n      <td>0</td>\n      <td>36.0</td>\n      <td>Male</td>\n      <td>White alone</td>\n      <td>False</td>\n    </tr>\n    <tr>\n      <th>499998</th>\n      <td>50</td>\n      <td>Employee of a private for-profit company orbus...</td>\n      <td>Bachelor's degree</td>\n      <td>Married</td>\n      <td>2200.0</td>\n      <td>34</td>\n      <td>1</td>\n      <td>40.0</td>\n      <td>Female</td>\n      <td>White alone</td>\n      <td>False</td>\n    </tr>\n    <tr>\n      <th>499999</th>\n      <td>52</td>\n      <td>Employee of a private for-profit company orbus...</td>\n      <td>12th grade - no diploma</td>\n      <td>Divorced</td>\n      <td>6260.0</td>\n      <td>22</td>\n      <td>0</td>\n      <td>40.0</td>\n      <td>Male</td>\n      <td>White alone</td>\n      <td>False</td>\n    </tr>\n  </tbody>\n</table>\n<p>500000 rows × 11 columns</p>\n</div>"
     },
     "execution_count": 4,
     "metadata": {},
     "output_type": "execute_result"
    }
   ],
   "source": [
    "test_acs = pd.read_csv(\"acs_income_all_2017_1y_500000.csv\", delimiter=\";\")\n",
    "test_acs"
   ],
   "metadata": {
    "collapsed": false,
    "pycharm": {
     "name": "#%%\n"
    }
   }
  },
  {
   "cell_type": "code",
   "execution_count": 5,
   "outputs": [
    {
     "data": {
      "text/plain": "        AGEP                                                COW  \\\n0         31  Employee of a private for-profit company orbus...   \n1         41  Employee of a private for-profit company orbus...   \n2         37                          State government employee   \n3         32  Self-employed in own incorporated business,pro...   \n4         54  Employee of a private for-profit company orbus...   \n...      ...                                                ...   \n1642968   20                          State government employee   \n1642969   21                        Federal government employee   \n1642970   26                          State government employee   \n1642971   31  Employee of a private for-profit company orbus...   \n1642972   21  Employee of a private for-profit company orbus...   \n\n                                                 SCHL  \\\n0                                   Bachelor's degree   \n1                       GED or alternative credential   \n2                         Regular high school diploma   \n3                         Regular high school diploma   \n4                                  Associate's degree   \n...                                               ...   \n1642968  1 or more years of college credit, no degree   \n1642969            Some college, but less than 1 year   \n1642970                                       Grade 9   \n1642971            Some college, but less than 1 year   \n1642972                                      Grade 10   \n\n                                         MAR    OCCP POBP RELP  WKHP     SEX  \\\n0        Never married or under 15 years old   350.0   13    0  42.0  Female   \n1                                    Married  6260.0   13    0  42.0    Male   \n2                                   Divorced   230.0    1    0  30.0  Female   \n3                                    Married  8140.0  303    0  60.0    Male   \n4                                    Married   136.0    1    1  40.0  Female   \n...                                      ...     ...  ...  ...   ...     ...   \n1642968  Never married or under 15 years old  4640.0   72   17  60.0  Female   \n1642969  Never married or under 15 years old  7210.0   41   17  80.0    Male   \n1642970  Never married or under 15 years old  4250.0   72   16  15.0    Male   \n1642971                             Divorced  9610.0   72   17  40.0    Male   \n1642972  Never married or under 15 years old  9620.0   72   16  20.0    Male   \n\n                                   RAC1P  \n0                            White alone  \n1                            White alone  \n2        Black or African American alone  \n3                            White alone  \n4        Black or African American alone  \n...                                  ...  \n1642968  Black or African American alone  \n1642969                      White alone  \n1642970            Some Other Race alone  \n1642971                      White alone  \n1642972  Black or African American alone  \n\n[1642973 rows x 10 columns]",
      "text/html": "<div>\n<style scoped>\n    .dataframe tbody tr th:only-of-type {\n        vertical-align: middle;\n    }\n\n    .dataframe tbody tr th {\n        vertical-align: top;\n    }\n\n    .dataframe thead th {\n        text-align: right;\n    }\n</style>\n<table border=\"1\" class=\"dataframe\">\n  <thead>\n    <tr style=\"text-align: right;\">\n      <th></th>\n      <th>AGEP</th>\n      <th>COW</th>\n      <th>SCHL</th>\n      <th>MAR</th>\n      <th>OCCP</th>\n      <th>POBP</th>\n      <th>RELP</th>\n      <th>WKHP</th>\n      <th>SEX</th>\n      <th>RAC1P</th>\n    </tr>\n  </thead>\n  <tbody>\n    <tr>\n      <th>0</th>\n      <td>31</td>\n      <td>Employee of a private for-profit company orbus...</td>\n      <td>Bachelor's degree</td>\n      <td>Never married or under 15 years old</td>\n      <td>350.0</td>\n      <td>13</td>\n      <td>0</td>\n      <td>42.0</td>\n      <td>Female</td>\n      <td>White alone</td>\n    </tr>\n    <tr>\n      <th>1</th>\n      <td>41</td>\n      <td>Employee of a private for-profit company orbus...</td>\n      <td>GED or alternative credential</td>\n      <td>Married</td>\n      <td>6260.0</td>\n      <td>13</td>\n      <td>0</td>\n      <td>42.0</td>\n      <td>Male</td>\n      <td>White alone</td>\n    </tr>\n    <tr>\n      <th>2</th>\n      <td>37</td>\n      <td>State government employee</td>\n      <td>Regular high school diploma</td>\n      <td>Divorced</td>\n      <td>230.0</td>\n      <td>1</td>\n      <td>0</td>\n      <td>30.0</td>\n      <td>Female</td>\n      <td>Black or African American alone</td>\n    </tr>\n    <tr>\n      <th>3</th>\n      <td>32</td>\n      <td>Self-employed in own incorporated business,pro...</td>\n      <td>Regular high school diploma</td>\n      <td>Married</td>\n      <td>8140.0</td>\n      <td>303</td>\n      <td>0</td>\n      <td>60.0</td>\n      <td>Male</td>\n      <td>White alone</td>\n    </tr>\n    <tr>\n      <th>4</th>\n      <td>54</td>\n      <td>Employee of a private for-profit company orbus...</td>\n      <td>Associate's degree</td>\n      <td>Married</td>\n      <td>136.0</td>\n      <td>1</td>\n      <td>1</td>\n      <td>40.0</td>\n      <td>Female</td>\n      <td>Black or African American alone</td>\n    </tr>\n    <tr>\n      <th>...</th>\n      <td>...</td>\n      <td>...</td>\n      <td>...</td>\n      <td>...</td>\n      <td>...</td>\n      <td>...</td>\n      <td>...</td>\n      <td>...</td>\n      <td>...</td>\n      <td>...</td>\n    </tr>\n    <tr>\n      <th>1642968</th>\n      <td>20</td>\n      <td>State government employee</td>\n      <td>1 or more years of college credit, no degree</td>\n      <td>Never married or under 15 years old</td>\n      <td>4640.0</td>\n      <td>72</td>\n      <td>17</td>\n      <td>60.0</td>\n      <td>Female</td>\n      <td>Black or African American alone</td>\n    </tr>\n    <tr>\n      <th>1642969</th>\n      <td>21</td>\n      <td>Federal government employee</td>\n      <td>Some college, but less than 1 year</td>\n      <td>Never married or under 15 years old</td>\n      <td>7210.0</td>\n      <td>41</td>\n      <td>17</td>\n      <td>80.0</td>\n      <td>Male</td>\n      <td>White alone</td>\n    </tr>\n    <tr>\n      <th>1642970</th>\n      <td>26</td>\n      <td>State government employee</td>\n      <td>Grade 9</td>\n      <td>Never married or under 15 years old</td>\n      <td>4250.0</td>\n      <td>72</td>\n      <td>16</td>\n      <td>15.0</td>\n      <td>Male</td>\n      <td>Some Other Race alone</td>\n    </tr>\n    <tr>\n      <th>1642971</th>\n      <td>31</td>\n      <td>Employee of a private for-profit company orbus...</td>\n      <td>Some college, but less than 1 year</td>\n      <td>Divorced</td>\n      <td>9610.0</td>\n      <td>72</td>\n      <td>17</td>\n      <td>40.0</td>\n      <td>Male</td>\n      <td>White alone</td>\n    </tr>\n    <tr>\n      <th>1642972</th>\n      <td>21</td>\n      <td>Employee of a private for-profit company orbus...</td>\n      <td>Grade 10</td>\n      <td>Never married or under 15 years old</td>\n      <td>9620.0</td>\n      <td>72</td>\n      <td>16</td>\n      <td>20.0</td>\n      <td>Male</td>\n      <td>Black or African American alone</td>\n    </tr>\n  </tbody>\n</table>\n<p>1642973 rows × 10 columns</p>\n</div>"
     },
     "execution_count": 5,
     "metadata": {},
     "output_type": "execute_result"
    }
   ],
   "source": [
    "features"
   ],
   "metadata": {
    "collapsed": false,
    "pycharm": {
     "name": "#%%\n"
    }
   }
  },
  {
   "cell_type": "code",
   "execution_count": 6,
   "outputs": [
    {
     "data": {
      "text/plain": "(500000, 34)"
     },
     "execution_count": 6,
     "metadata": {},
     "output_type": "execute_result"
    }
   ],
   "source": [
    "from sklearn.preprocessing import OneHotEncoder\n",
    "from mlmq.monkeypatching._mlinspect_ndarray import MlinspectNdarray\n",
    "test_combined = OneHotEncoder().fit_transform(MlinspectNdarray(test_acs[[\"COW\", \"SCHL\", \"SEX\"]].to_numpy())).shape\n",
    "test_combined"
   ],
   "metadata": {
    "collapsed": false,
    "pycharm": {
     "name": "#%%\n"
    }
   }
  },
  {
   "cell_type": "code",
   "execution_count": 7,
   "outputs": [
    {
     "data": {
      "text/plain": "(500000, 34)"
     },
     "execution_count": 7,
     "metadata": {},
     "output_type": "execute_result"
    }
   ],
   "source": [
    "test_a = OneHotEncoder().fit_transform(test_acs[[\"COW\"]]).shape\n",
    "test_b = OneHotEncoder().fit_transform(test_acs[[\"SCHL\"]]).shape\n",
    "test_c = OneHotEncoder().fit_transform(test_acs[[\"SEX\"]]).shape\n",
    "(test_a[0], test_a[1] + test_b[1] + test_c[1])"
   ],
   "metadata": {
    "collapsed": false,
    "pycharm": {
     "name": "#%%\n"
    }
   }
  }
 ],
 "metadata": {
  "kernelspec": {
   "display_name": "Python 3",
   "language": "python",
   "name": "python3"
  },
  "language_info": {
   "codemirror_mode": {
    "name": "ipython",
    "version": 2
   },
   "file_extension": ".py",
   "mimetype": "text/x-python",
   "name": "python",
   "nbconvert_exporter": "python",
   "pygments_lexer": "ipython2",
   "version": "2.7.6"
  }
 },
 "nbformat": 4,
 "nbformat_minor": 0
}