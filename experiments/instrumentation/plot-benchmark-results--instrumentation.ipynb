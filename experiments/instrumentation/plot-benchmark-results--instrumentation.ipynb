{
 "cells": [
  {
   "cell_type": "code",
   "execution_count": 1,
   "metadata": {
    "collapsed": true
   },
   "outputs": [],
   "source": [
    "import os\n",
    "import statistics\n",
    "from typing import Dict, Tuple\n",
    "import pandas as pd\n",
    "import numpy as np\n",
    "import matplotlib.pyplot as plt\n"
   ]
  },
  {
   "cell_type": "code",
   "execution_count": 2,
   "outputs": [],
   "source": [
    "def load_csv_results():\n",
    "    normal_datasets = [\"healthcare\", \"folktables\", \"cardio\", \"reviews\"]\n",
    "    image_dataset = [\"sneakers\"]\n",
    "    # data_loadings = [\"fast_loading\", \"slow_loading\"]\n",
    "    data_loadings = [\"fast_loading\"]\n",
    "    featurizations = [\"featurization_0\", \"featurization_1\", \"featurization_2\", \"featurization_3\", \"featurization_4\"]\n",
    "    models = [\"logistic_regression\", \"xgboost\", \"neural_network\"]\n",
    "    result_df = None\n",
    "    for dataset in normal_datasets:\n",
    "        for data_loading in data_loadings:\n",
    "            for featurization in featurizations:\n",
    "                for model in models:\n",
    "                    filepath = f\"{os.getcwd()}/instrumentation-benchmark-results/\" \\\n",
    "                               f\"results-instrumentation-{dataset}-{data_loading}-{featurization}-{model}.csv\"\n",
    "                    new_df = pd.read_csv(filepath)\n",
    "                    new_df['median_total_exec_duration_with_instrum_with_tracking'] = new_df['total_exec_duration_with_instrum_with_tracking'].median()\n",
    "                    new_df['median_total_exec_duration_with_instrum_without_tracking'] = new_df['total_exec_duration_with_instrum_without_tracking'].median()\n",
    "                    new_df['median_total_exec_duration_without_instrum_main_func'] = new_df['total_exec_duration_without_instrum_main_func'].median()\n",
    "                    new_df['median_total_exec_duration_without_instrum_load_ast_compile'] = new_df['total_exec_duration_without_instrum_load_ast_compile'].median()\n",
    "                    new_df['median_overhead_with_tracking_vs_main_func'] = new_df['median_total_exec_duration_with_instrum_with_tracking'] - new_df['median_total_exec_duration_without_instrum_main_func']\n",
    "                    new_df = new_df[['median_total_exec_duration_with_instrum_with_tracking',\n",
    "                                     'median_total_exec_duration_with_instrum_without_tracking',\n",
    "                                     'median_total_exec_duration_without_instrum_main_func',\n",
    "                                     'median_total_exec_duration_without_instrum_load_ast_compile',\n",
    "                                     'median_overhead_with_tracking_vs_main_func',\n",
    "                                     'dataset', 'data_loading', 'featurization', 'model']]\n",
    "                    new_df = new_df.head(1)\n",
    "                    new_df = new_df.round(2)\n",
    "                    if result_df is None:\n",
    "                        result_df = new_df\n",
    "                    else:\n",
    "                        result_df = pd.concat([result_df, new_df], axis=0)\n",
    "    for dataset in image_dataset:\n",
    "        for data_loading in data_loadings:\n",
    "            for featurization in [\"image\"]:\n",
    "                for model in [\"image\"]:\n",
    "                    filepath = f\"{os.getcwd()}/instrumentation-benchmark-results/\" \\\n",
    "                               f\"results-instrumentation-{dataset}-{data_loading}-{featurization}-{model}.csv\"\n",
    "                    new_df = pd.read_csv(filepath)\n",
    "                    new_df['median_total_exec_duration_with_instrum_with_tracking'] = new_df['total_exec_duration_with_instrum_with_tracking'].median()\n",
    "                    new_df['median_total_exec_duration_with_instrum_without_tracking'] = new_df['total_exec_duration_with_instrum_without_tracking'].median()\n",
    "                    new_df['median_total_exec_duration_without_instrum_main_func'] = new_df['total_exec_duration_without_instrum_main_func'].median()\n",
    "                    new_df['median_total_exec_duration_without_instrum_load_ast_compile'] = new_df['total_exec_duration_without_instrum_load_ast_compile'].median()\n",
    "                    new_df['median_overhead_with_tracking_vs_main_func'] = new_df['median_total_exec_duration_with_instrum_with_tracking'] - new_df['median_total_exec_duration_without_instrum_main_func']\n",
    "                    new_df = new_df[['median_total_exec_duration_with_instrum_with_tracking',\n",
    "                                     'median_total_exec_duration_with_instrum_without_tracking',\n",
    "                                     'median_total_exec_duration_without_instrum_main_func',\n",
    "                                     'median_total_exec_duration_without_instrum_load_ast_compile',\n",
    "                                     'median_overhead_with_tracking_vs_main_func',\n",
    "                                     'dataset', 'data_loading', 'featurization', 'model']]\n",
    "                    new_df = new_df.head(1)\n",
    "                    new_df = new_df.round(2)\n",
    "                    if result_df is None:\n",
    "                        result_df = new_df\n",
    "                    else:\n",
    "                        result_df = pd.concat([result_df, new_df], axis=0)\n",
    "    return result_df"
   ],
   "metadata": {
    "collapsed": false,
    "pycharm": {
     "name": "#%%\n"
    }
   }
  },
  {
   "cell_type": "code",
   "execution_count": 3,
   "outputs": [],
   "source": [
    "median_results = load_csv_results()"
   ],
   "metadata": {
    "collapsed": false,
    "pycharm": {
     "name": "#%%\n"
    }
   }
  },
  {
   "cell_type": "code",
   "execution_count": 4,
   "outputs": [
    {
     "data": {
      "text/plain": "    median_total_exec_duration_with_instrum_with_tracking  \\\n0                                             5403.93       \n0                                             2124.22       \n0                                             3649.67       \n0                                             2079.05       \n0                                             5188.54       \n..                                                ...       \n0                                            37197.35       \n0                                            10797.77       \n0                                            13556.63       \n0                                            10199.64       \n0                                            20652.65       \n\n    median_total_exec_duration_with_instrum_without_tracking  \\\n0                                             5502.54          \n0                                             2126.82          \n0                                             3656.73          \n0                                             2087.35          \n0                                             5026.11          \n..                                                ...          \n0                                            37188.62          \n0                                            10797.25          \n0                                            13679.71          \n0                                            10156.33          \n0                                            20548.43          \n\n    median_total_exec_duration_without_instrum_main_func  \\\n0                                             5494.63      \n0                                             2067.52      \n0                                             3561.81      \n0                                             1981.15      \n0                                             5059.70      \n..                                                ...      \n0                                            35693.50      \n0                                             9258.74      \n0                                            11522.29      \n0                                             8073.24      \n0                                            18474.90      \n\n    median_total_exec_duration_without_instrum_load_ast_compile  \\\n0                                             5184.80             \n0                                             1904.84             \n0                                             3533.96             \n0                                             1871.92             \n0                                             4771.45             \n..                                                ...             \n0                                            35738.02             \n0                                             9279.07             \n0                                            11642.45             \n0                                             8097.50             \n0                                            18518.89             \n\n    median_overhead_with_tracking_vs_main_func     dataset  data_loading  \\\n0                                       -90.70  folktables  fast_loading   \n0                                        56.70  healthcare  fast_loading   \n0                                        87.87  folktables  fast_loading   \n0                                        97.90  healthcare  fast_loading   \n0                                       128.84  folktables  fast_loading   \n..                                         ...         ...           ...   \n0                                      1503.85     reviews  fast_loading   \n0                                      1539.03     reviews  fast_loading   \n0                                      2034.34     reviews  fast_loading   \n0                                      2126.40     reviews  fast_loading   \n0                                      2177.75     reviews  fast_loading   \n\n      featurization                model  \n0   featurization_2       neural_network  \n0   featurization_2       neural_network  \n0   featurization_4       neural_network  \n0   featurization_1       neural_network  \n0   featurization_3       neural_network  \n..              ...                  ...  \n0   featurization_3              xgboost  \n0   featurization_3  logistic_regression  \n0   featurization_4       neural_network  \n0   featurization_4  logistic_regression  \n0   featurization_4              xgboost  \n\n[61 rows x 9 columns]",
      "text/html": "<div>\n<style scoped>\n    .dataframe tbody tr th:only-of-type {\n        vertical-align: middle;\n    }\n\n    .dataframe tbody tr th {\n        vertical-align: top;\n    }\n\n    .dataframe thead th {\n        text-align: right;\n    }\n</style>\n<table border=\"1\" class=\"dataframe\">\n  <thead>\n    <tr style=\"text-align: right;\">\n      <th></th>\n      <th>median_total_exec_duration_with_instrum_with_tracking</th>\n      <th>median_total_exec_duration_with_instrum_without_tracking</th>\n      <th>median_total_exec_duration_without_instrum_main_func</th>\n      <th>median_total_exec_duration_without_instrum_load_ast_compile</th>\n      <th>median_overhead_with_tracking_vs_main_func</th>\n      <th>dataset</th>\n      <th>data_loading</th>\n      <th>featurization</th>\n      <th>model</th>\n    </tr>\n  </thead>\n  <tbody>\n    <tr>\n      <th>0</th>\n      <td>5403.93</td>\n      <td>5502.54</td>\n      <td>5494.63</td>\n      <td>5184.80</td>\n      <td>-90.70</td>\n      <td>folktables</td>\n      <td>fast_loading</td>\n      <td>featurization_2</td>\n      <td>neural_network</td>\n    </tr>\n    <tr>\n      <th>0</th>\n      <td>2124.22</td>\n      <td>2126.82</td>\n      <td>2067.52</td>\n      <td>1904.84</td>\n      <td>56.70</td>\n      <td>healthcare</td>\n      <td>fast_loading</td>\n      <td>featurization_2</td>\n      <td>neural_network</td>\n    </tr>\n    <tr>\n      <th>0</th>\n      <td>3649.67</td>\n      <td>3656.73</td>\n      <td>3561.81</td>\n      <td>3533.96</td>\n      <td>87.87</td>\n      <td>folktables</td>\n      <td>fast_loading</td>\n      <td>featurization_4</td>\n      <td>neural_network</td>\n    </tr>\n    <tr>\n      <th>0</th>\n      <td>2079.05</td>\n      <td>2087.35</td>\n      <td>1981.15</td>\n      <td>1871.92</td>\n      <td>97.90</td>\n      <td>healthcare</td>\n      <td>fast_loading</td>\n      <td>featurization_1</td>\n      <td>neural_network</td>\n    </tr>\n    <tr>\n      <th>0</th>\n      <td>5188.54</td>\n      <td>5026.11</td>\n      <td>5059.70</td>\n      <td>4771.45</td>\n      <td>128.84</td>\n      <td>folktables</td>\n      <td>fast_loading</td>\n      <td>featurization_3</td>\n      <td>neural_network</td>\n    </tr>\n    <tr>\n      <th>...</th>\n      <td>...</td>\n      <td>...</td>\n      <td>...</td>\n      <td>...</td>\n      <td>...</td>\n      <td>...</td>\n      <td>...</td>\n      <td>...</td>\n      <td>...</td>\n    </tr>\n    <tr>\n      <th>0</th>\n      <td>37197.35</td>\n      <td>37188.62</td>\n      <td>35693.50</td>\n      <td>35738.02</td>\n      <td>1503.85</td>\n      <td>reviews</td>\n      <td>fast_loading</td>\n      <td>featurization_3</td>\n      <td>xgboost</td>\n    </tr>\n    <tr>\n      <th>0</th>\n      <td>10797.77</td>\n      <td>10797.25</td>\n      <td>9258.74</td>\n      <td>9279.07</td>\n      <td>1539.03</td>\n      <td>reviews</td>\n      <td>fast_loading</td>\n      <td>featurization_3</td>\n      <td>logistic_regression</td>\n    </tr>\n    <tr>\n      <th>0</th>\n      <td>13556.63</td>\n      <td>13679.71</td>\n      <td>11522.29</td>\n      <td>11642.45</td>\n      <td>2034.34</td>\n      <td>reviews</td>\n      <td>fast_loading</td>\n      <td>featurization_4</td>\n      <td>neural_network</td>\n    </tr>\n    <tr>\n      <th>0</th>\n      <td>10199.64</td>\n      <td>10156.33</td>\n      <td>8073.24</td>\n      <td>8097.50</td>\n      <td>2126.40</td>\n      <td>reviews</td>\n      <td>fast_loading</td>\n      <td>featurization_4</td>\n      <td>logistic_regression</td>\n    </tr>\n    <tr>\n      <th>0</th>\n      <td>20652.65</td>\n      <td>20548.43</td>\n      <td>18474.90</td>\n      <td>18518.89</td>\n      <td>2177.75</td>\n      <td>reviews</td>\n      <td>fast_loading</td>\n      <td>featurization_4</td>\n      <td>xgboost</td>\n    </tr>\n  </tbody>\n</table>\n<p>61 rows × 9 columns</p>\n</div>"
     },
     "execution_count": 4,
     "metadata": {},
     "output_type": "execute_result"
    }
   ],
   "source": [
    "median_results_ordered_by_median_overhead = median_results\\\n",
    "    .sort_values(by=['median_overhead_with_tracking_vs_main_func'])\n",
    "median_results_ordered_by_median_overhead.to_csv(\n",
    "    f\"{os.getcwd()}/instrumentation-benchmark-results/instrumentation_overhead_overview_ordered_by_median_overhead.csv\",\n",
    "    index=True)\n",
    "median_results_ordered_by_median_overhead\n"
   ],
   "metadata": {
    "collapsed": false,
    "pycharm": {
     "name": "#%%\n"
    }
   }
  }
 ],
 "metadata": {
  "kernelspec": {
   "display_name": "Python 3",
   "language": "python",
   "name": "python3"
  },
  "language_info": {
   "codemirror_mode": {
    "name": "ipython",
    "version": 2
   },
   "file_extension": ".py",
   "mimetype": "text/x-python",
   "name": "python",
   "nbconvert_exporter": "python",
   "pygments_lexer": "ipython2",
   "version": "2.7.6"
  }
 },
 "nbformat": 4,
 "nbformat_minor": 0
}