{
 "cells": [
  {
   "cell_type": "code",
   "execution_count": 1,
   "metadata": {
    "collapsed": true
   },
   "outputs": [],
   "source": [
    "import os\n",
    "import statistics\n",
    "from typing import Dict, Tuple\n",
    "import pandas as pd\n",
    "import numpy as np\n",
    "import matplotlib.pyplot as plt\n"
   ]
  },
  {
   "cell_type": "code",
   "execution_count": 2,
   "outputs": [],
   "source": [
    "def load_csv_results():\n",
    "    normal_datasets = [\"healthcare\", \"folktables\", \"cardio\", \"reviews\"]\n",
    "    image_dataset = [\"sneakers\"]\n",
    "    data_loadings = [\"fast_loading\", \"slow_loading\"]\n",
    "    featurizations = [\"featurization_0\", \"featurization_1\", \"featurization_2\", \"featurization_3\", \"featurization_4\"]\n",
    "    models = [\"logistic_regression\", \"xgboost\", \"neural_network\"]\n",
    "    result_df = None\n",
    "    for dataset in normal_datasets:\n",
    "        for data_loading in data_loadings:\n",
    "            for featurization in featurizations:\n",
    "                for model in models:\n",
    "                    filepath = f\"{os.getcwd()}/instrumentation-benchmark-results/\" \\\n",
    "                               f\"results-instrumentation-{dataset}-{data_loading}-{featurization}-{model}.csv\"\n",
    "                    new_df = pd.read_csv(filepath)\n",
    "                    new_df['median_total_exec_duration_with_instrum_with_tracking'] = new_df['total_exec_duration_with_instrum_with_tracking'].median()\n",
    "                    new_df['median_total_exec_duration_with_instrum_without_tracking'] = new_df['total_exec_duration_with_instrum_without_tracking'].median()\n",
    "                    new_df['median_total_exec_duration_without_instrum_main_func'] = new_df['total_exec_duration_without_instrum_main_func'].median()\n",
    "                    new_df['median_total_exec_duration_without_instrum_load_ast_compile'] = new_df['total_exec_duration_without_instrum_load_ast_compile'].median()\n",
    "                    new_df['median_overhead_with_tracking_vs_main_func'] = new_df['median_total_exec_duration_with_instrum_with_tracking'] - new_df['median_total_exec_duration_without_instrum_main_func']\n",
    "                    new_df = new_df[['median_total_exec_duration_with_instrum_with_tracking',\n",
    "                                     'median_total_exec_duration_with_instrum_without_tracking',\n",
    "                                     'median_total_exec_duration_without_instrum_main_func',\n",
    "                                     'median_total_exec_duration_without_instrum_load_ast_compile',\n",
    "                                     'median_overhead_with_tracking_vs_main_func',\n",
    "                                     'dataset', 'data_loading', 'featurization', 'model']]\n",
    "                    new_df = new_df.head(1)\n",
    "                    new_df = new_df.round(2)\n",
    "                    if result_df is None:\n",
    "                        result_df = new_df\n",
    "                    else:\n",
    "                        result_df = pd.concat([result_df, new_df], axis=0)\n",
    "    for dataset in image_dataset:\n",
    "        for data_loading in data_loadings:\n",
    "            for featurization in [\"image\"]:\n",
    "                for model in [\"image\"]:\n",
    "                    filepath = f\"{os.getcwd()}/instrumentation-benchmark-results/\" \\\n",
    "                               f\"results-instrumentation-{dataset}-{data_loading}-{featurization}-{model}.csv\"\n",
    "                    new_df = pd.read_csv(filepath)\n",
    "                    new_df['median_total_exec_duration_with_instrum_with_tracking'] = new_df['total_exec_duration_with_instrum_with_tracking'].median()\n",
    "                    new_df['median_total_exec_duration_with_instrum_without_tracking'] = new_df['total_exec_duration_with_instrum_without_tracking'].median()\n",
    "                    new_df['median_total_exec_duration_without_instrum_main_func'] = new_df['total_exec_duration_without_instrum_main_func'].median()\n",
    "                    new_df['median_total_exec_duration_without_instrum_load_ast_compile'] = new_df['total_exec_duration_without_instrum_load_ast_compile'].median()\n",
    "                    new_df['median_overhead_with_tracking_vs_main_func'] = new_df['median_total_exec_duration_with_instrum_with_tracking'] - new_df['median_total_exec_duration_without_instrum_main_func']\n",
    "                    new_df = new_df[['median_total_exec_duration_with_instrum_with_tracking',\n",
    "                                     'median_total_exec_duration_with_instrum_without_tracking',\n",
    "                                     'median_total_exec_duration_without_instrum_main_func',\n",
    "                                     'median_total_exec_duration_without_instrum_load_ast_compile',\n",
    "                                     'median_overhead_with_tracking_vs_main_func',\n",
    "                                     'dataset', 'data_loading', 'featurization', 'model']]\n",
    "                    new_df = new_df.head(1)\n",
    "                    new_df = new_df.round(2)\n",
    "                    if result_df is None:\n",
    "                        result_df = new_df\n",
    "                    else:\n",
    "                        result_df = pd.concat([result_df, new_df], axis=0)\n",
    "    return result_df"
   ],
   "metadata": {
    "collapsed": false,
    "pycharm": {
     "name": "#%%\n"
    }
   }
  },
  {
   "cell_type": "code",
   "execution_count": 3,
   "outputs": [],
   "source": [
    "median_results = load_csv_results()"
   ],
   "metadata": {
    "collapsed": false,
    "pycharm": {
     "name": "#%%\n"
    }
   }
  },
  {
   "cell_type": "code",
   "execution_count": 4,
   "outputs": [
    {
     "data": {
      "text/plain": "    median_total_exec_duration_with_instrum_with_tracking  \\\n0                                             4678.50       \n0                                              504.51       \n0                                              591.28       \n0                                              951.04       \n0                                              875.52       \n..                                                ...       \n0                                            45388.62       \n0                                            39003.89       \n0                                            50918.54       \n0                                            50415.60       \n0                                            45162.83       \n\n    median_total_exec_duration_with_instrum_without_tracking  \\\n0                                             4689.94          \n0                                              505.44          \n0                                              589.11          \n0                                              950.99          \n0                                              875.18          \n..                                                ...          \n0                                            45696.68          \n0                                            39009.84          \n0                                            50760.20          \n0                                            50428.75          \n0                                            44928.19          \n\n    median_total_exec_duration_without_instrum_main_func  \\\n0                                             4496.86      \n0                                              312.85      \n0                                              392.30      \n0                                              750.52      \n0                                              674.72      \n..                                                ...      \n0                                            15854.24      \n0                                             9448.42      \n0                                            21316.58      \n0                                            20797.25      \n0                                            15332.04      \n\n    median_total_exec_duration_without_instrum_load_ast_compile  \\\n0                                             4495.83             \n0                                              319.40             \n0                                              402.95             \n0                                              758.99             \n0                                              683.19             \n..                                                ...             \n0                                            15901.86             \n0                                             9447.84             \n0                                            21306.22             \n0                                            20785.37             \n0                                            15276.02             \n\n    median_overhead_with_tracking_vs_main_func  dataset  data_loading  \\\n0                                       181.64   cardio  fast_loading   \n0                                       191.66   cardio  fast_loading   \n0                                       198.99   cardio  slow_loading   \n0                                       200.52   cardio  slow_loading   \n0                                       200.79   cardio  fast_loading   \n..                                         ...      ...           ...   \n0                                     29534.38  reviews  slow_loading   \n0                                     29555.47  reviews  slow_loading   \n0                                     29601.96  reviews  slow_loading   \n0                                     29618.34  reviews  fast_loading   \n0                                     29830.78  reviews  fast_loading   \n\n      featurization                model  \n0   featurization_0       neural_network  \n0   featurization_0  logistic_regression  \n0   featurization_0  logistic_regression  \n0   featurization_0              xgboost  \n0   featurization_0              xgboost  \n..              ...                  ...  \n0   featurization_3       neural_network  \n0   featurization_3  logistic_regression  \n0   featurization_3              xgboost  \n0   featurization_3              xgboost  \n0   featurization_3       neural_network  \n\n[122 rows x 9 columns]",
      "text/html": "<div>\n<style scoped>\n    .dataframe tbody tr th:only-of-type {\n        vertical-align: middle;\n    }\n\n    .dataframe tbody tr th {\n        vertical-align: top;\n    }\n\n    .dataframe thead th {\n        text-align: right;\n    }\n</style>\n<table border=\"1\" class=\"dataframe\">\n  <thead>\n    <tr style=\"text-align: right;\">\n      <th></th>\n      <th>median_total_exec_duration_with_instrum_with_tracking</th>\n      <th>median_total_exec_duration_with_instrum_without_tracking</th>\n      <th>median_total_exec_duration_without_instrum_main_func</th>\n      <th>median_total_exec_duration_without_instrum_load_ast_compile</th>\n      <th>median_overhead_with_tracking_vs_main_func</th>\n      <th>dataset</th>\n      <th>data_loading</th>\n      <th>featurization</th>\n      <th>model</th>\n    </tr>\n  </thead>\n  <tbody>\n    <tr>\n      <th>0</th>\n      <td>4678.50</td>\n      <td>4689.94</td>\n      <td>4496.86</td>\n      <td>4495.83</td>\n      <td>181.64</td>\n      <td>cardio</td>\n      <td>fast_loading</td>\n      <td>featurization_0</td>\n      <td>neural_network</td>\n    </tr>\n    <tr>\n      <th>0</th>\n      <td>504.51</td>\n      <td>505.44</td>\n      <td>312.85</td>\n      <td>319.40</td>\n      <td>191.66</td>\n      <td>cardio</td>\n      <td>fast_loading</td>\n      <td>featurization_0</td>\n      <td>logistic_regression</td>\n    </tr>\n    <tr>\n      <th>0</th>\n      <td>591.28</td>\n      <td>589.11</td>\n      <td>392.30</td>\n      <td>402.95</td>\n      <td>198.99</td>\n      <td>cardio</td>\n      <td>slow_loading</td>\n      <td>featurization_0</td>\n      <td>logistic_regression</td>\n    </tr>\n    <tr>\n      <th>0</th>\n      <td>951.04</td>\n      <td>950.99</td>\n      <td>750.52</td>\n      <td>758.99</td>\n      <td>200.52</td>\n      <td>cardio</td>\n      <td>slow_loading</td>\n      <td>featurization_0</td>\n      <td>xgboost</td>\n    </tr>\n    <tr>\n      <th>0</th>\n      <td>875.52</td>\n      <td>875.18</td>\n      <td>674.72</td>\n      <td>683.19</td>\n      <td>200.79</td>\n      <td>cardio</td>\n      <td>fast_loading</td>\n      <td>featurization_0</td>\n      <td>xgboost</td>\n    </tr>\n    <tr>\n      <th>...</th>\n      <td>...</td>\n      <td>...</td>\n      <td>...</td>\n      <td>...</td>\n      <td>...</td>\n      <td>...</td>\n      <td>...</td>\n      <td>...</td>\n      <td>...</td>\n    </tr>\n    <tr>\n      <th>0</th>\n      <td>45388.62</td>\n      <td>45696.68</td>\n      <td>15854.24</td>\n      <td>15901.86</td>\n      <td>29534.38</td>\n      <td>reviews</td>\n      <td>slow_loading</td>\n      <td>featurization_3</td>\n      <td>neural_network</td>\n    </tr>\n    <tr>\n      <th>0</th>\n      <td>39003.89</td>\n      <td>39009.84</td>\n      <td>9448.42</td>\n      <td>9447.84</td>\n      <td>29555.47</td>\n      <td>reviews</td>\n      <td>slow_loading</td>\n      <td>featurization_3</td>\n      <td>logistic_regression</td>\n    </tr>\n    <tr>\n      <th>0</th>\n      <td>50918.54</td>\n      <td>50760.20</td>\n      <td>21316.58</td>\n      <td>21306.22</td>\n      <td>29601.96</td>\n      <td>reviews</td>\n      <td>slow_loading</td>\n      <td>featurization_3</td>\n      <td>xgboost</td>\n    </tr>\n    <tr>\n      <th>0</th>\n      <td>50415.60</td>\n      <td>50428.75</td>\n      <td>20797.25</td>\n      <td>20785.37</td>\n      <td>29618.34</td>\n      <td>reviews</td>\n      <td>fast_loading</td>\n      <td>featurization_3</td>\n      <td>xgboost</td>\n    </tr>\n    <tr>\n      <th>0</th>\n      <td>45162.83</td>\n      <td>44928.19</td>\n      <td>15332.04</td>\n      <td>15276.02</td>\n      <td>29830.78</td>\n      <td>reviews</td>\n      <td>fast_loading</td>\n      <td>featurization_3</td>\n      <td>neural_network</td>\n    </tr>\n  </tbody>\n</table>\n<p>122 rows × 9 columns</p>\n</div>"
     },
     "execution_count": 4,
     "metadata": {},
     "output_type": "execute_result"
    }
   ],
   "source": [
    "median_results_ordered_by_median_overhead = median_results\\\n",
    "    .sort_values(by=['median_overhead_with_tracking_vs_main_func'])\n",
    "median_results_ordered_by_median_overhead.to_csv(\n",
    "    f\"{os.getcwd()}/instrumentation-benchmark-results/instrumentation_overhead_overview_ordered_by_median_overhead.csv\",\n",
    "    index=True)\n",
    "median_results_ordered_by_median_overhead\n"
   ],
   "metadata": {
    "collapsed": false,
    "pycharm": {
     "name": "#%%\n"
    }
   }
  }
 ],
 "metadata": {
  "kernelspec": {
   "display_name": "Python 3",
   "language": "python",
   "name": "python3"
  },
  "language_info": {
   "codemirror_mode": {
    "name": "ipython",
    "version": 2
   },
   "file_extension": ".py",
   "mimetype": "text/x-python",
   "name": "python",
   "nbconvert_exporter": "python",
   "pygments_lexer": "ipython2",
   "version": "2.7.6"
  }
 },
 "nbformat": 4,
 "nbformat_minor": 0
}