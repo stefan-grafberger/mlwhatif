{
 "cells": [
  {
   "cell_type": "code",
   "execution_count": 8,
   "outputs": [],
   "source": [
    "import random\n",
    "import numpy as np\n",
    "import pandas as pd\n",
    "from faker import Faker\n",
    "fake = Faker()\n",
    "\n",
    "seed = 1234\n",
    "np.random.seed(seed)\n",
    "fake.seed = seed\n",
    "random.seed = seed"
   ],
   "metadata": {
    "collapsed": false,
    "pycharm": {
     "name": "#%%\n"
    }
   }
  },
  {
   "cell_type": "code",
   "execution_count": 9,
   "outputs": [],
   "source": [
    "def generate_data(num_records):\n",
    "\n",
    "    patient_data = []\n",
    "    history_data = []\n",
    "\n",
    "    for _ in range(0, num_records):\n",
    "        smokes = np.random.rand() > 0.75\n",
    "\n",
    "        is_male = np.random.rand() > 0.5\n",
    "        gave_consent = np.random.rand() > 0.02\n",
    "        if is_male:\n",
    "            weight = np.random.normal(loc=80, scale=5.0)\n",
    "        else:\n",
    "            weight = np.random.normal(loc=60, scale=3.0)\n",
    "\n",
    "        complication_prob = 0.20\n",
    "\n",
    "        if smokes:\n",
    "           complication_prob += 0.10\n",
    "\n",
    "        if is_male and weight > 90:\n",
    "           complication_prob += 0.30\n",
    "        elif is_male and weight > 85:\n",
    "           complication_prob += 0.20\n",
    "\n",
    "        if weight < 45:\n",
    "           complication_prob += 0.10\n",
    "\n",
    "        if complication_prob >= 0.20 and np.random.rand() > 0.3:\n",
    "            notes = \"high risk\"\n",
    "        else:\n",
    "            notes = \"normal risk\"\n",
    "\n",
    "        has_complication = np.random.rand() < complication_prob\n",
    "\n",
    "        smokes_cat = 'no'\n",
    "        if smokes:\n",
    "            smokes_cat = 'yes'\n",
    "\n",
    "        hospital = random.choice([\"AL\", \"AK\", \"AR\", \"AZ\"])\n",
    "\n",
    "        ssn = fake.ssn()\n",
    "\n",
    "        patient_data.append((smokes_cat, weight, gave_consent, ssn))\n",
    "        history_data.append((notes, has_complication, ssn, hospital))\n",
    "\n",
    "    patients = pd.DataFrame.from_records(patient_data, columns=['smokes', 'weight', 'gave_consent', 'ssn'])\n",
    "    histories = pd.DataFrame.from_records(history_data, columns=['notes', 'has_complication', 'ssn', 'hospital'])\n",
    "    return patients, histories"
   ],
   "metadata": {
    "collapsed": false,
    "pycharm": {
     "name": "#%%\n"
    }
   }
  },
  {
   "cell_type": "code",
   "execution_count": 10,
   "outputs": [
    {
     "data": {
      "text/plain": "  smokes     weight  gave_consent          ssn        notes  has_complication  \\\n0     no  83.312545          True  145-30-4647  normal risk             False   \n1    yes  83.376232          True  585-16-5590    high risk             False   \n2     no  80.729046          True  329-35-0407  normal risk             False   \n3    yes  68.682273          True  450-62-4605  normal risk             False   \n4    yes  76.697793          True  279-97-5059    high risk             False   \n5     no  85.205430          True  304-35-8430    high risk             False   \n6     no  84.569758          True  513-31-4578    high risk              True   \n7     no  65.067364          True  577-44-3249  normal risk             False   \n8     no  57.983418          True  090-29-5357    high risk             False   \n9     no  62.741663          True  103-60-4282    high risk             False   \n\n  hospital  \n0       AZ  \n1       AZ  \n2       AK  \n3       AZ  \n4       AZ  \n5       AK  \n6       AK  \n7       AL  \n8       AR  \n9       AK  ",
      "text/html": "<div>\n<style scoped>\n    .dataframe tbody tr th:only-of-type {\n        vertical-align: middle;\n    }\n\n    .dataframe tbody tr th {\n        vertical-align: top;\n    }\n\n    .dataframe thead th {\n        text-align: right;\n    }\n</style>\n<table border=\"1\" class=\"dataframe\">\n  <thead>\n    <tr style=\"text-align: right;\">\n      <th></th>\n      <th>smokes</th>\n      <th>weight</th>\n      <th>gave_consent</th>\n      <th>ssn</th>\n      <th>notes</th>\n      <th>has_complication</th>\n      <th>hospital</th>\n    </tr>\n  </thead>\n  <tbody>\n    <tr>\n      <th>0</th>\n      <td>no</td>\n      <td>83.312545</td>\n      <td>True</td>\n      <td>145-30-4647</td>\n      <td>normal risk</td>\n      <td>False</td>\n      <td>AZ</td>\n    </tr>\n    <tr>\n      <th>1</th>\n      <td>yes</td>\n      <td>83.376232</td>\n      <td>True</td>\n      <td>585-16-5590</td>\n      <td>high risk</td>\n      <td>False</td>\n      <td>AZ</td>\n    </tr>\n    <tr>\n      <th>2</th>\n      <td>no</td>\n      <td>80.729046</td>\n      <td>True</td>\n      <td>329-35-0407</td>\n      <td>normal risk</td>\n      <td>False</td>\n      <td>AK</td>\n    </tr>\n    <tr>\n      <th>3</th>\n      <td>yes</td>\n      <td>68.682273</td>\n      <td>True</td>\n      <td>450-62-4605</td>\n      <td>normal risk</td>\n      <td>False</td>\n      <td>AZ</td>\n    </tr>\n    <tr>\n      <th>4</th>\n      <td>yes</td>\n      <td>76.697793</td>\n      <td>True</td>\n      <td>279-97-5059</td>\n      <td>high risk</td>\n      <td>False</td>\n      <td>AZ</td>\n    </tr>\n    <tr>\n      <th>5</th>\n      <td>no</td>\n      <td>85.205430</td>\n      <td>True</td>\n      <td>304-35-8430</td>\n      <td>high risk</td>\n      <td>False</td>\n      <td>AK</td>\n    </tr>\n    <tr>\n      <th>6</th>\n      <td>no</td>\n      <td>84.569758</td>\n      <td>True</td>\n      <td>513-31-4578</td>\n      <td>high risk</td>\n      <td>True</td>\n      <td>AK</td>\n    </tr>\n    <tr>\n      <th>7</th>\n      <td>no</td>\n      <td>65.067364</td>\n      <td>True</td>\n      <td>577-44-3249</td>\n      <td>normal risk</td>\n      <td>False</td>\n      <td>AL</td>\n    </tr>\n    <tr>\n      <th>8</th>\n      <td>no</td>\n      <td>57.983418</td>\n      <td>True</td>\n      <td>090-29-5357</td>\n      <td>high risk</td>\n      <td>False</td>\n      <td>AR</td>\n    </tr>\n    <tr>\n      <th>9</th>\n      <td>no</td>\n      <td>62.741663</td>\n      <td>True</td>\n      <td>103-60-4282</td>\n      <td>high risk</td>\n      <td>False</td>\n      <td>AK</td>\n    </tr>\n  </tbody>\n</table>\n</div>"
     },
     "execution_count": 10,
     "metadata": {},
     "output_type": "execute_result"
    }
   ],
   "source": [
    "tmp_patients, tmp_histories = generate_data(10)\n",
    "tmp_patients.merge(tmp_histories, on=\"ssn\")"
   ],
   "metadata": {
    "collapsed": false,
    "pycharm": {
     "name": "#%%\n"
    }
   }
  },
  {
   "cell_type": "code",
   "execution_count": 11,
   "outputs": [],
   "source": [
    "from sklearn.preprocessing import OneHotEncoder, label_binarize, StandardScaler, FunctionTransformer\n",
    "from sklearn.compose import ColumnTransformer\n",
    "from sklearn.impute import SimpleImputer\n",
    "from sklearn.feature_extraction.text import HashingVectorizer\n",
    "from sklearn.pipeline import Pipeline\n",
    "\n",
    "from tensorflow.python.keras.wrappers.scikit_learn import KerasClassifier\n",
    "from tensorflow.keras.layers import Dense, Dropout\n",
    "from tensorflow.keras.models import Sequential\n"
   ],
   "metadata": {
    "collapsed": false,
    "pycharm": {
     "name": "#%%\n"
    }
   }
  },
  {
   "cell_type": "code",
   "execution_count": 12,
   "outputs": [],
   "source": [
    "train_patients, train_histories = generate_data(10000)\n",
    "test_patients, test_histories = generate_data(4000)\n",
    "merged_patients = pd.concat([train_patients, test_patients])\n",
    "\n",
    "train_data = merged_patients.merge(train_histories, on=\"ssn\")\n",
    "test_data = merged_patients.merge(test_histories, on=\"ssn\")\n",
    "\n",
    "merged_patients.to_csv('patients.csv', index=False)\n",
    "train_histories.to_csv('histories.csv', index=False)\n",
    "test_histories.to_csv('test_histories.csv', index=False)"
   ],
   "metadata": {
    "collapsed": false,
    "pycharm": {
     "name": "#%%\n"
    }
   }
  },
  {
   "cell_type": "code",
   "execution_count": 13,
   "outputs": [
    {
     "name": "stdout",
     "output_type": "stream",
     "text": [
      "Epoch 1/5\n",
      "313/313 [==============================] - 0s 480us/step - loss: 0.6343 - accuracy: 0.6600\b\b\b\b\b\b\b\b\b\b\b\b\b\b\b\b\b\b\b\b\b\b\b\b\b\b\b\b\b\b\b\b\b\b\b\b\b\b\b\b\b\b\b\b\b\b\b\b\b\b\b\b\b\b\b\b\b\b\b\b\b\b\b\b\b\b\b\b\b\b\b\b\b\b\b\b\b\b\b\b\b\b\b\b\b\b\b\b\b\b\b\b\b\b\b\b\b\b\b\b\b\b\b\b\b\b\b\b\b\b\b\b\b\b\b\b\b\b\b\b\b\b\b\b\b\b\b\b\b\b\b\b\b\b\b\b\b\b\b\b\b\b\b\b\b\b\b\b\b\b\b\b\b\b\b\b\b\b\b\b\b\b\b\b\b\b\b\b\b\b\b\b\b\b\b\b\b\b\b\b\b\b\b\b\b\b\b\b\b\b\b\b\b\b\b\b\b\b\b\b\b\b\b\b\b\b\b\b\b\b\b\b\b\b\b\b\b\b\b\b\b\b\b\b\b\b\b\b\b\b\b\b\b\b\b\b\b\b\b\b\b\b\b\b\b\b\b\b\b\b\n",
      "Epoch 2/5\n",
      "313/313 [==============================] - 0s 481us/step - loss: 0.5540 - accuracy: 0.7594\b\b\b\b\b\b\b\b\b\b\b\b\b\b\b\b\b\b\b\b\b\b\b\b\b\b\b\b\b\b\b\b\b\b\b\b\b\b\b\b\b\b\b\b\b\b\b\b\b\b\b\b\b\b\b\b\b\b\b\b\b\b\b\b\b\b\b\b\b\b\b\b\b\b\b\b\b\b\b\b\b\b\b\b\b\b\b\b\b\b\b\b\b\b\b\b\b\b\b\b\b\b\b\b\b\b\b\b\b\b\b\b\b\b\b\b\b\b\b\b\b\b\b\b\b\b\b\b\b\b\b\b\b\b\b\b\b\b\b\b\b\b\b\b\b\b\b\b\b\b\b\b\b\b\b\b\b\b\b\b\b\b\b\b\b\b\b\b\b\b\b\b\b\b\b\b\b\b\b\b\b\b\b\b\b\b\b\b\b\b\b\b\b\b\b\b\b\b\b\b\b\b\b\b\b\b\b\b\b\b\b\b\b\b\b\b\b\b\b\b\b\b\b\b\b\b\b\b\b\b\b\b\b\b\b\b\b\b\b\b\b\b\b\b\b\b\n",
      "Epoch 3/5\n",
      "313/313 [==============================] - 0s 452us/step - loss: 0.5489 - accuracy: 0.7594\b\b\b\b\b\b\b\b\b\b\b\b\b\b\b\b\b\b\b\b\b\b\b\b\b\b\b\b\b\b\b\b\b\b\b\b\b\b\b\b\b\b\b\b\b\b\b\b\b\b\b\b\b\b\b\b\b\b\b\b\b\b\b\b\b\b\b\b\b\b\b\b\b\b\b\b\b\b\b\b\b\b\b\b\b\b\b\b\b\b\b\b\b\b\b\b\b\b\b\b\b\b\b\b\b\b\b\b\b\b\b\b\b\b\b\b\b\b\b\b\b\b\b\b\b\b\b\b\b\b\b\b\b\b\b\b\b\b\b\b\b\b\b\b\b\b\b\b\b\b\b\b\b\b\b\b\b\b\b\b\b\b\b\b\b\b\b\b\b\b\b\b\b\b\b\b\b\b\b\b\b\b\b\b\b\b\b\b\b\b\b\b\b\b\b\b\b\b\b\b\b\b\b\b\b\b\b\b\b\b\b\b\b\b\b\b\b\b\b\b\b\b\b\b\b\b\b\b\b\b\b\b\b\b\b\b\b\b\b\b\b\b\b\b\b\b\n",
      "Epoch 4/5\n",
      "313/313 [==============================] - 0s 463us/step - loss: 0.5483 - accuracy: 0.7594\b\b\b\b\b\b\b\b\b\b\b\b\b\b\b\b\b\b\b\b\b\b\b\b\b\b\b\b\b\b\b\b\b\b\b\b\b\b\b\b\b\b\b\b\b\b\b\b\b\b\b\b\b\b\b\b\b\b\b\b\b\b\b\b\b\b\b\b\b\b\b\b\b\b\b\b\b\b\b\b\b\b\b\b\b\b\b\b\b\b\b\b\b\b\b\b\b\b\b\b\b\b\b\b\b\b\b\b\b\b\b\b\b\b\b\b\b\b\b\b\b\b\b\b\b\b\b\b\b\b\b\b\b\b\b\b\b\b\b\b\b\b\b\b\b\b\b\b\b\b\b\b\b\b\b\b\b\b\b\b\b\b\b\b\b\b\b\b\b\b\b\b\b\b\b\b\b\b\b\b\b\b\b\b\b\b\b\b\b\b\b\b\b\b\b\b\b\b\b\b\b\b\b\b\b\b\b\b\b\b\b\b\b\b\b\b\b\b\b\b\b\b\b\b\b\b\b\b\b\b\b\b\b\b\b\b\b\b\b\b\b\b\b\b\b\b\n",
      "Epoch 5/5\n",
      "313/313 [==============================] - 0s 482us/step - loss: 0.5458 - accuracy: 0.7594\b\b\b\b\b\b\b\b\b\b\b\b\b\b\b\b\b\b\b\b\b\b\b\b\b\b\b\b\b\b\b\b\b\b\b\b\b\b\b\b\b\b\b\b\b\b\b\b\b\b\b\b\b\b\b\b\b\b\b\b\b\b\b\b\b\b\b\b\b\b\b\b\b\b\b\b\b\b\b\b\b\b\b\b\b\b\b\b\b\b\b\b\b\b\b\b\b\b\b\b\b\b\b\b\b\b\b\b\b\b\b\b\b\b\b\b\b\b\b\b\b\b\b\b\b\b\b\b\b\b\b\b\b\b\b\b\b\b\b\b\b\b\b\b\b\b\b\b\b\b\b\b\b\b\b\b\b\b\b\b\b\b\b\b\b\b\b\b\b\b\b\b\b\b\b\b\b\b\b\b\b\b\b\b\b\b\b\b\b\b\b\b\b\b\b\b\b\b\b\b\b\b\b\b\b\b\b\b\b\b\b\b\b\b\b\b\b\b\b\b\b\b\b\b\b\b\b\b\b\b\b\b\b\b\b\b\b\b\b\b\b\b\b\b\b\b\n",
      "125/125 [==============================] - 0s 387us/step - loss: 0.5543 - accuracy: 0.7498\b\b\b\b\b\b\b\b\b\b\b\b\b\b\b\b\b\b\b\b\b\b\b\b\b\b\b\b\b\b\b\b\b\b\b\b\b\b\b\b\b\b\b\b\b\b\b\b\b\b\b\b\b\b\b\b\b\b\b\b\b\b\b\b\b\b\b\b\b\b\b\b\b\b\b\b\b\b\n"
     ]
    },
    {
     "data": {
      "text/plain": "0.749750018119812"
     },
     "execution_count": 13,
     "metadata": {},
     "output_type": "execute_result"
    }
   ],
   "source": [
    "encode = ColumnTransformer(transformers=[\n",
    "    ('numerical_features', StandardScaler(), ['weight']),\n",
    "    ('categorical_features', OneHotEncoder(handle_unknown='ignore'), ['smokes']),\n",
    "    ('textual_features', HashingVectorizer(ngram_range=(1, 2), n_features=10), 'notes')])\n",
    "\n",
    "def create_mlp():\n",
    "    nn = Sequential([\n",
    "        Dense(8, activation='relu'), Dropout(0.3),\n",
    "        Dense(4, activation='relu'),\n",
    "        Dense(2, activation='softmax')])\n",
    "    nn.compile(loss='sparse_categorical_crossentropy', optimizer='adam', metrics='accuracy')\n",
    "    return nn\n",
    "\n",
    "pipeline = Pipeline([\n",
    "    ('features', encode),\n",
    "    ('learner', KerasClassifier(create_mlp, epochs=5))])\n",
    "\n",
    "model = pipeline.fit(train_data, train_data.has_complication)\n",
    "model.score(test_data, test_data.has_complication)"
   ],
   "metadata": {
    "collapsed": false,
    "pycharm": {
     "name": "#%%\n"
    }
   }
  },
  {
   "cell_type": "code",
   "execution_count": 14,
   "outputs": [
    {
     "name": "stdout",
     "output_type": "stream",
     "text": [
      "32/32 [==============================] - 0s 650us/step - loss: 161.8091 - accuracy: 0.6270\b\b\b\b\b\b\b\b\b\b\b\b\b\b\b\b\b\b\b\b\b\b\b\b\b\b\b\b\b\b\b\b\b\b\b\b\b\b\b\b\b\b\b\b\b\b\b\b\b\b\b\b\b\b\b\b\b\b\b\b\b\b\b\b\b\b\b\b\b\b\b\b\b\b\b\b\n"
     ]
    },
    {
     "data": {
      "text/plain": "0.6269999742507935"
     },
     "execution_count": 14,
     "metadata": {},
     "output_type": "execute_result"
    }
   ],
   "source": [
    "corrupted_test_patients, corrupted_test_histories = generate_data(1000)\n",
    "corrupted_test_data = corrupted_test_patients.merge(corrupted_test_histories, on=\"ssn\")\n",
    "\n",
    "corrupted_test_data.loc[corrupted_test_data.sample(frac=0.25).index, 'weight'] = 0\n",
    "corrupted_test_data.loc[corrupted_test_data.sample(frac=0.25).index, 'weight'] = 60000\n",
    "\n",
    "model.score(corrupted_test_data, corrupted_test_data.has_complication)"
   ],
   "metadata": {
    "collapsed": false,
    "pycharm": {
     "name": "#%%\n"
    }
   }
  }
 ],
 "metadata": {
  "kernelspec": {
   "display_name": "Python 3 (ipykernel)",
   "language": "python",
   "name": "python3"
  },
  "language_info": {
   "codemirror_mode": {
    "name": "ipython",
    "version": 3
   },
   "file_extension": ".py",
   "mimetype": "text/x-python",
   "name": "python",
   "nbconvert_exporter": "python",
   "pygments_lexer": "ipython3",
   "version": "3.9.5"
  }
 },
 "nbformat": 4,
 "nbformat_minor": 1
}